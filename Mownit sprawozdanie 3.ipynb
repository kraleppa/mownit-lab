{
  "nbformat": 4,
  "nbformat_minor": 0,
  "metadata": {
    "colab": {
      "name": "Untitled0.ipynb",
      "provenance": [],
      "collapsed_sections": []
    },
    "kernelspec": {
      "name": "python3",
      "display_name": "Python 3"
    }
  },
  "cells": [
    {
      "cell_type": "markdown",
      "metadata": {
        "id": "1ksnN1rotua9",
        "colab_type": "text"
      },
      "source": [
        "#Krzysztof Nalepa\n",
        "##Sprawozdanie z ćwiczenia 3\n",
        "##Podstawowe metody interpolacji"
      ]
    },
    {
      "cell_type": "markdown",
      "metadata": {
        "id": "dpZshrr5uI81",
        "colab_type": "text"
      },
      "source": [
        "### Zadanie 1\n",
        "Stablicuj następujące funkcje: sqrt(x), sin(x), x^3+2x w czterech punktach należących do przedziału 0 do 10."
      ]
    },
    {
      "cell_type": "code",
      "metadata": {
        "id": "mJLkc_fluN7-",
        "colab_type": "code",
        "colab": {
          "base_uri": "https://localhost:8080/",
          "height": 437
        },
        "outputId": "1c9bf099-6805-4b06-a424-7cb277e67c08"
      },
      "source": [
        "from tabulate import tabulate\n",
        "import math as m\n",
        "def function_to_table(function, function_string):\n",
        "  domain = [0.0, 2.5, 5.0, 7.5, 10.0]\n",
        "  values = []\n",
        "  for number in domain:\n",
        "    values.append(function(number))\n",
        "  \n",
        "  print(tabulate({\"x\": domain, function_string: values}, headers=\"keys\", floatfmt=\".10f\"))\n",
        "  return domain, values\n",
        "\n",
        "sqrt_domain, sqrt_values = function_to_table(m.sqrt, \"sqrt(x)\")\n",
        "print(\"\\n\")\n",
        "sin_domain, sin_values = function_to_table(m.sin, \"sin(x)\")\n",
        "print(\"\\n\")\n",
        "lambda_domain, lambda_values = function_to_table(lambda x: x**3 + 2 * x, \"x^3+2x\")"
      ],
      "execution_count": 84,
      "outputs": [
        {
          "output_type": "stream",
          "text": [
            "            x       sqrt(x)\n",
            "-------------  ------------\n",
            " 0.0000000000  0.0000000000\n",
            " 2.5000000000  1.5811388301\n",
            " 5.0000000000  2.2360679775\n",
            " 7.5000000000  2.7386127875\n",
            "10.0000000000  3.1622776602\n",
            "\n",
            "\n",
            "            x         sin(x)\n",
            "-------------  -------------\n",
            " 0.0000000000   0.0000000000\n",
            " 2.5000000000   0.5984721441\n",
            " 5.0000000000  -0.9589242747\n",
            " 7.5000000000   0.9379999768\n",
            "10.0000000000  -0.5440211109\n",
            "\n",
            "\n",
            "            x           x^3+2x\n",
            "-------------  ---------------\n",
            " 0.0000000000     0.0000000000\n",
            " 2.5000000000    20.6250000000\n",
            " 5.0000000000   135.0000000000\n",
            " 7.5000000000   436.8750000000\n",
            "10.0000000000  1020.0000000000\n"
          ],
          "name": "stdout"
        }
      ]
    },
    {
      "cell_type": "markdown",
      "metadata": {
        "id": "97hT2QvxzR_l",
        "colab_type": "text"
      },
      "source": [
        "### Zadanie 2 \n",
        "Napisz algorytm znajdujący wielomian interpolujący Lagrange dla powyższych stablicowanych funkcji."
      ]
    },
    {
      "cell_type": "code",
      "metadata": {
        "id": "dlIr6sBvz8FB",
        "colab_type": "code",
        "colab": {
          "base_uri": "https://localhost:8080/",
          "height": 118
        },
        "outputId": "6b6d1216-c8a2-451c-84d3-c50980f78e4f"
      },
      "source": [
        "from sympy import symbols, simplify\n",
        "def lagrange_polynominal_eq(domain: table, values: table):\n",
        "  if len(domain) != len(values):\n",
        "    return\n",
        "  \n",
        "  x = symbols('x')\n",
        "  y = 0\n",
        "  for k in range (len(domain)):\n",
        "    i = 1\n",
        "    for j in range(len(domain)):\n",
        "      if k != j:\n",
        "        i = i * ((x - domain[j]) / (domain[k] - domain[j]))\n",
        "    y += i * values[k]\n",
        "  return simplify(y)\n",
        "\n",
        "print(f\"sqrt: {lagrange_polynominal_eq(sqrt_domain, sqrt_values)}\\n\")\n",
        "print(f\"sin: {lagrange_polynominal_eq(sin_domain, sin_values)}\\n\")\n",
        "print(f\"lambda: {lagrange_polynominal_eq(lambda_domain, lambda_values)}\\n\")\n",
        "\n",
        "\n",
        "  "
      ],
      "execution_count": 85,
      "outputs": [
        {
          "output_type": "stream",
          "text": [
            "sqrt: x*(-0.000747009008291158*x**3 + 0.0194592721406771*x**2 - 0.187359671555827*x + 0.990906275798561)\n",
            "\n",
            "sin: x*(-0.0132730189252085*x**3 + 0.258937302364272*x**2 - 1.53380467478385*x + 2.66293332553089)\n",
            "\n",
            "lambda: x*(-2.22044604925031e-16*x**3 + 1.0*x**2 + 2.0)\n",
            "\n"
          ],
          "name": "stdout"
        }
      ]
    },
    {
      "cell_type": "markdown",
      "metadata": {
        "id": "GIKgqq-bz8Mx",
        "colab_type": "text"
      },
      "source": [
        "### Zadanie 3\n",
        "Porównaj wartość dokładną z wynikiem interpolacji dla punktów znajdujących się pomiędzy węzłami wielomianu (w połowie odległości) interpolującego. Oszacuj dokładność interpolacji. "
      ]
    },
    {
      "cell_type": "code",
      "metadata": {
        "id": "yS3svFAcz9S4",
        "colab_type": "code",
        "colab": {
          "base_uri": "https://localhost:8080/",
          "height": 386
        },
        "outputId": "f98c6aa6-f8e8-4f9d-d39a-f885de4e22e3"
      },
      "source": [
        "import matplotlib.pyplot as plt\n",
        "import numpy as np\n",
        "\n",
        "def lagrange_polynominal(domain, values, x):\n",
        "  if len(domain) != len(values):\n",
        "    return\n",
        "\n",
        "  y = 0\n",
        "  for k in range (len(domain)):\n",
        "    i = 1\n",
        "    for j in range(len(domain)):\n",
        "      if k != j:\n",
        "        i = i * ((x - domain[j]) / (domain[k] - domain[j]))\n",
        "    y += i * values[k]\n",
        "  return simplify(y)\n",
        "\n",
        "\n",
        "def compare(function_name, function_original, function_interpolation, domain):\n",
        "  \n",
        "  values_original = []\n",
        "  values_interpoloation = []\n",
        "  relative_error = []\n",
        "  absolute_error = []\n",
        "  for number in domain:\n",
        "    values_original.append(function_original(number))\n",
        "    values_interpoloation.append(function_interpolation(number))\n",
        "    relative_error.append(\n",
        "        abs(function_original(number) - function_interpolation(number)) / function_original(number))\n",
        "    absolute_error.append(abs(function_original(number) - function_interpolation(number)))\n",
        "  \n",
        "  print(tabulate({\"x\": domain, function_name: values_original, function_name + \" interpolation\": values_interpoloation, \n",
        "                  \"realtive error\": relative_error, \"absolute error\": absolute_error}, headers=\"keys\", floatfmt=\".10f\"))\n",
        "\n",
        "domain = [1.25, 3.75, 6.25, 8.75]\n",
        "sqrt_approx = lambda x: lagrange_polynominal(sqrt_domain, sqrt_values, x)\n",
        "compare(\"sqrt\", m.sqrt, sqrt_approx, domain)\n",
        "\n",
        "print(\"\\n\")\n",
        "sin_approx = lambda x: lagrange_polynominal(sin_domain, sin_values, x)\n",
        "compare(\"sin\", m.sin, sin_approx, domain)\n",
        "\n",
        "print(\"\\n\")\n",
        "lambda_approx = lambda x: lagrange_polynominal(lambda_domain, lambda_values, x)\n",
        "compare(\"lambda\", lambda x: x**3 + 2 * x, lambda_approx, domain)\n"
      ],
      "execution_count": 86,
      "outputs": [
        {
          "output_type": "stream",
          "text": [
            "           x          sqrt    sqrt interpolation    realtive error    absolute error\n",
            "------------  ------------  --------------------  ----------------  ----------------\n",
            "1.2500000000  1.1180339887          0.9820659964      0.1216134695      0.1359679924\n",
            "3.7500000000  1.9364916731          1.9596017579      0.0119339965      0.0231100848\n",
            "6.2500000000  2.5000000000          2.4853806275      0.0058477490      0.0146193725\n",
            "8.7500000000  2.9580398915          2.9830674779      0.0084608685      0.0250275864\n",
            "\n",
            "\n",
            "           x            sin    sin interpolation    realtive error    absolute error\n",
            "------------  -------------  -------------------  ----------------  ----------------\n",
            "1.2500000000   0.9489846194         1.4054289399      0.4809817896      0.4564443205\n",
            "3.7500000000  -0.5715613187        -0.5530228042     -0.0324348655      0.0185385145\n",
            "6.2500000000  -0.0331792165        -0.3068165894     -8.2472523859      0.2736373728\n",
            "8.7500000000   0.6247239538         1.5325091963      1.4530981838      0.9077852426\n",
            "\n",
            "\n",
            "           x          lambda    lambda interpolation    realtive error    absolute error\n",
            "------------  --------------  ----------------------  ----------------  ----------------\n",
            "1.2500000000    4.4531250000            4.4531250000      0.0000000000      0.0000000000\n",
            "3.7500000000   60.2343750000           60.2343750000      0.0000000000      0.0000000000\n",
            "6.2500000000  256.6406250000          256.6406250000      0.0000000000      0.0000000000\n",
            "8.7500000000  687.4218750000          687.4218750000      0.0000000000      0.0000000000\n"
          ],
          "name": "stdout"
        }
      ]
    },
    {
      "cell_type": "markdown",
      "metadata": {
        "id": "qNaY-FARz9aT",
        "colab_type": "text"
      },
      "source": [
        "### Zadanie 4\n",
        "Powtórz powyższe kroki dla 3, 5 i 8 węzłów interpolacji - podsumuj badania. "
      ]
    },
    {
      "cell_type": "code",
      "metadata": {
        "id": "3dSPO3WDhpHk",
        "colab_type": "code",
        "colab": {
          "base_uri": "https://localhost:8080/",
          "height": 286
        },
        "outputId": "f1a1d2c0-3487-4279-8f08-bea76247870d"
      },
      "source": [
        "def function_to_table(function, function_string, domain):\n",
        "  values = []\n",
        "  for number in domain:\n",
        "    values.append(function(number))\n",
        "  \n",
        "  print(tabulate({\"x\": domain, function_string: values}, headers=\"keys\", floatfmt=\".10f\"))\n",
        "  return domain, values\n",
        "\n",
        "domain = [0, 3.3333333333, 6.6666666666, 10]\n",
        "points = [1.6666666666, 5, 8.3333333333]\n",
        "sqrt_domain, sqrt_values = function_to_table(m.sqrt, \"sqrt(x)\", domain)\n",
        "print(\"\\n\")\n",
        "\n",
        "sqrt_approx = lambda x: lagrange_polynominal(sqrt_domain, sqrt_values, x)\n",
        "compare(\"sqrt\", m.sqrt, sqrt_approx, points)\n",
        "\n",
        "print(\"\\n\")\n",
        "\n",
        "lagrange_polynominal_eq(domain, sqrt_values)"
      ],
      "execution_count": 87,
      "outputs": [
        {
          "output_type": "stream",
          "text": [
            "            x       sqrt(x)\n",
            "-------------  ------------\n",
            " 0.0000000000  0.0000000000\n",
            " 3.3333333333  1.8257418583\n",
            " 6.6666666666  2.5819888975\n",
            "10.0000000000  3.1622776602\n",
            "\n",
            "\n",
            "           x          sqrt    sqrt interpolation    realtive error    absolute error\n",
            "------------  ------------  --------------------  ----------------  ----------------\n",
            "1.6666666666  1.2909944487          1.1024038155      0.1460816764      0.1885906332\n",
            "5.0000000000  2.2360679775          2.2817061964      0.0204100320      0.0456382189\n",
            "8.3333333333  2.8867513459          2.8382820294      0.0167902638      0.0484693165\n",
            "\n",
            "\n"
          ],
          "name": "stdout"
        },
        {
          "output_type": "execute_result",
          "data": {
            "text/plain": [
              "x*(0.00402091444268843*x**2 - 0.0883364112925316*x + 0.79750043467331)"
            ]
          },
          "metadata": {
            "tags": []
          },
          "execution_count": 87
        }
      ]
    },
    {
      "cell_type": "code",
      "metadata": {
        "id": "JbgPUs8bmtNg",
        "colab_type": "code",
        "colab": {
          "base_uri": "https://localhost:8080/",
          "height": 286
        },
        "outputId": "191065fe-01a0-47a5-cd5c-55decd6f0b84"
      },
      "source": [
        "domain = [0, 3.3333333333, 6.6666666666, 10]\n",
        "points = [1.6666666666, 5, 8.3333333333]\n",
        "sin_domain, sin_values = function_to_table(m.sin, \"sin(x)\", domain)\n",
        "print(\"\\n\")\n",
        "\n",
        "sin_approx = lambda x: lagrange_polynominal(sin_domain, sin_values, x)\n",
        "compare(\"sin\", m.sin, sin_approx, points)\n",
        "\n",
        "print(\"\\n\")\n",
        "\n",
        "lagrange_polynominal_eq(domain, sin_values)\n"
      ],
      "execution_count": 88,
      "outputs": [
        {
          "output_type": "stream",
          "text": [
            "            x         sin(x)\n",
            "-------------  -------------\n",
            " 0.0000000000   0.0000000000\n",
            " 3.3333333333  -0.1905679628\n",
            " 6.6666666666   0.3741512305\n",
            "10.0000000000  -0.5440211109\n",
            "\n",
            "\n",
            "           x            sin    sin interpolation    realtive error    absolute error\n",
            "------------  -------------  -------------------  ----------------  ----------------\n",
            "1.6666666666   0.9954079578        -0.3295810441      1.3311014761      1.3249890019\n",
            "5.0000000000  -0.9589242747         0.1372669075     -1.1431467647      1.0961911822\n",
            "8.3333333333   0.8872941081         0.2403126698      0.7291623289      0.6469814383\n",
            "\n",
            "\n"
          ],
          "name": "stdout"
        },
        {
          "output_type": "execute_result",
          "data": {
            "text/plain": [
              "x*(-0.0100718041092337*x**2 + 0.134705963120781*x - 0.394281331373377)"
            ]
          },
          "metadata": {
            "tags": []
          },
          "execution_count": 88
        }
      ]
    },
    {
      "cell_type": "code",
      "metadata": {
        "id": "jx2u_tUjn9P1",
        "colab_type": "code",
        "colab": {
          "base_uri": "https://localhost:8080/",
          "height": 286
        },
        "outputId": "0521b15c-41a4-4022-d96e-0be9ef3c0d68"
      },
      "source": [
        "domain = [0, 3.3333333333, 6.6666666666, 10]\n",
        "points = [1.6666666666, 5, 8.3333333333]\n",
        "lambda_domain, lambda_values = function_to_table(lambda x: x**3 + 2 * x, \"lambda(x)\", domain)\n",
        "print(\"\\n\")\n",
        "\n",
        "lambda_approx = lambda x: lagrange_polynominal(lambda_domain, lambda_values, x)\n",
        "compare(\"lambda\", lambda x: x**3 + 2 * x, lambda_approx, points)\n",
        "\n",
        "print(\"\\n\")\n",
        "\n",
        "lagrange_polynominal_eq(domain, lambda_values)"
      ],
      "execution_count": 90,
      "outputs": [
        {
          "output_type": "stream",
          "text": [
            "            x        lambda(x)\n",
            "-------------  ---------------\n",
            " 0.0000000000     0.0000000000\n",
            " 3.3333333333    43.7037037025\n",
            " 6.6666666666   309.6296296206\n",
            "10.0000000000  1020.0000000000\n",
            "\n",
            "\n",
            "           x          lambda    lambda interpolation    realtive error    absolute error\n",
            "------------  --------------  ----------------------  ----------------  ----------------\n",
            "1.6666666666    7.9629629623            7.9629629623      0.0000000000      0.0000000000\n",
            "5.0000000000  135.0000000000          135.0000000000      0.0000000000      0.0000000000\n",
            "8.3333333333  595.3703703634          595.3703703634      0.0000000000      0.0000000000\n",
            "\n",
            "\n"
          ],
          "name": "stdout"
        },
        {
          "output_type": "execute_result",
          "data": {
            "text/plain": [
              "x*(1.0*x**2 - 7.105427357601e-15*x + 2.00000000000003)"
            ]
          },
          "metadata": {
            "tags": []
          },
          "execution_count": 90
        }
      ]
    },
    {
      "cell_type": "code",
      "metadata": {
        "id": "7B8CPpTZoPYf",
        "colab_type": "code",
        "colab": {
          "base_uri": "https://localhost:8080/",
          "height": 373
        },
        "outputId": "98375c52-d71c-492d-9246-802e5c790026"
      },
      "source": [
        "domain = [0, 2, 4, 6, 8, 10]\n",
        "points = [1, 3, 5, 7, 9]\n",
        "sqrt_domain, sqrt_values = function_to_table(m.sqrt, \"sqrt(x)\", domain)\n",
        "print(\"\\n\")\n",
        "\n",
        "sqrt_approx = lambda x: lagrange_polynominal(sqrt_domain, sqrt_values, x)\n",
        "compare(\"sqrt\", m.sqrt, sqrt_approx, points)\n",
        "\n",
        "print(\"\\n\")\n",
        "\n",
        "lagrange_polynominal_eq(domain, sqrt_values)"
      ],
      "execution_count": 91,
      "outputs": [
        {
          "output_type": "stream",
          "text": [
            "  x       sqrt(x)\n",
            "---  ------------\n",
            "  0  0.0000000000\n",
            "  2  1.4142135624\n",
            "  4  2.0000000000\n",
            "  6  2.4494897428\n",
            "  8  2.8284271247\n",
            " 10  3.1622776602\n",
            "\n",
            "\n",
            "  x          sqrt    sqrt interpolation    realtive error    absolute error\n",
            "---  ------------  --------------------  ----------------  ----------------\n",
            "  1  1.0000000000          0.8944129014      0.1055870986      0.1055870986\n",
            "  3  1.7320508076          1.7458526511      0.0079684981      0.0138018436\n",
            "  5  2.2360679775          2.2298604579      0.0027760872      0.0062075196\n",
            "  7  2.6457513111          2.6521102940      0.0024034696      0.0063589830\n",
            "  9  3.0000000000          2.9849436742      0.0050187753      0.0150563258\n",
            "\n",
            "\n"
          ],
          "name": "stdout"
        },
        {
          "output_type": "execute_result",
          "data": {
            "text/plain": [
              "x*(0.000152632103160074*x**4 - 0.00468385585455278*x**3 + 0.0553624438949276*x**2 - 0.322895942414569*x + 1.16647762362184)"
            ]
          },
          "metadata": {
            "tags": []
          },
          "execution_count": 91
        }
      ]
    },
    {
      "cell_type": "code",
      "metadata": {
        "id": "HaJyrVbaowce",
        "colab_type": "code",
        "colab": {
          "base_uri": "https://localhost:8080/",
          "height": 373
        },
        "outputId": "07a6b38c-9470-4508-fd53-c02f227cb22c"
      },
      "source": [
        "domain = [0, 2, 4, 6, 8, 10]\n",
        "points = [1, 3, 5, 7, 9]\n",
        "sin_domain, sin_values = function_to_table(m.sin, \"sin(x)\", domain)\n",
        "print(\"\\n\")\n",
        "\n",
        "sin_approx = lambda x: lagrange_polynominal(sin_domain, sin_values, x)\n",
        "compare(\"sin\", m.sin, sin_approx, points)\n",
        "\n",
        "print(\"\\n\")\n",
        "\n",
        "lagrange_polynominal_eq(domain, sin_values)"
      ],
      "execution_count": 92,
      "outputs": [
        {
          "output_type": "stream",
          "text": [
            "  x         sin(x)\n",
            "---  -------------\n",
            "  0   0.0000000000\n",
            "  2   0.9092974268\n",
            "  4  -0.7568024953\n",
            "  6  -0.2794154982\n",
            "  8   0.9893582466\n",
            " 10  -0.5440211109\n",
            "\n",
            "\n",
            "  x            sin    sin interpolation    realtive error    absolute error\n",
            "---  -------------  -------------------  ----------------  ----------------\n",
            "  1   0.8414709848         1.4133655930      0.6796367534      0.5718946082\n",
            "  3   0.1411200081        -0.0839243079      1.5947016941      0.2250443159\n",
            "  5  -0.9589242747        -0.7989498211     -0.1668269933      0.1599744536\n",
            "  7   0.6569865987         0.4729880066      0.2800644526      0.1839985921\n",
            "  9   0.4121184852         0.7803760692      0.8935721088      0.3682575839\n",
            "\n",
            "\n"
          ],
          "name": "stdout"
        },
        {
          "output_type": "execute_result",
          "data": {
            "text/plain": [
              "x*(0.000997277281565665*x**4 - 0.0357554009431133*x**3 + 0.427647172081667*x**2 - 2.00632974849062*x + 3.02680629310726)"
            ]
          },
          "metadata": {
            "tags": []
          },
          "execution_count": 92
        }
      ]
    },
    {
      "cell_type": "code",
      "metadata": {
        "id": "ddxb-fiCo72g",
        "colab_type": "code",
        "colab": {
          "base_uri": "https://localhost:8080/",
          "height": 353
        },
        "outputId": "78d21416-9bcf-44f8-93f9-f16a481f7acc"
      },
      "source": [
        "domain = [0, 2, 4, 6, 8, 10]\n",
        "points = [1, 3, 5, 7, 9]\n",
        "lambda_domain, lambda_values = function_to_table(lambda x: x**3 + 2 * x, \"lambda(x)\", domain)\n",
        "print(\"\\n\")\n",
        "\n",
        "lambda_approx = lambda x: lagrange_polynominal(lambda_domain, lambda_values, x)\n",
        "compare(\"lambda\", lambda x: x**3 + 2 * x, lambda_approx, points)\n",
        "\n",
        "print(\"\\n\")\n",
        "\n",
        "lagrange_polynominal_eq(domain, lambda_values)"
      ],
      "execution_count": 93,
      "outputs": [
        {
          "output_type": "stream",
          "text": [
            "  x    lambda(x)\n",
            "---  -----------\n",
            "  0            0\n",
            "  2           12\n",
            "  4           72\n",
            "  6          228\n",
            "  8          528\n",
            " 10         1020\n",
            "\n",
            "\n",
            "  x    lambda    lambda interpolation    realtive error    absolute error\n",
            "---  --------  ----------------------  ----------------  ----------------\n",
            "  1         3            3.0000000000      0.0000000000      0.0000000000\n",
            "  3        33           33.0000000000      0.0000000000      0.0000000000\n",
            "  5       135          135.0000000000      0.0000000000      0.0000000000\n",
            "  7       357          357.0000000000      0.0000000000      0.0000000000\n",
            "  9       747          747.0000000000      0.0000000000      0.0000000000\n",
            "\n",
            "\n"
          ],
          "name": "stdout"
        },
        {
          "output_type": "execute_result",
          "data": {
            "text/plain": [
              "x*(x**2 + 2)"
            ]
          },
          "metadata": {
            "tags": []
          },
          "execution_count": 93
        }
      ]
    },
    {
      "cell_type": "code",
      "metadata": {
        "id": "Svwx-UiYpG-w",
        "colab_type": "code",
        "colab": {
          "base_uri": "https://localhost:8080/",
          "height": 474
        },
        "outputId": "cab733fc-0448-4690-b631-1c4a2cf2bd84"
      },
      "source": [
        "domain = [0, 1.25, 2.5, 3.75, 5, 6.25, 7.5, 8.75, 10]\n",
        "points = [0.625, 1.875, 3.125, 4.375, 5.625, 6.875, 8.125, 9.375]\n",
        "sqrt_domain, sqrt_values = function_to_table(m.sqrt, \"sqrt(x)\", domain)\n",
        "print(\"\\n\")\n",
        "\n",
        "sqrt_approx = lambda x: lagrange_polynominal(sqrt_domain, sqrt_values, x)\n",
        "compare(\"sqrt\", m.sqrt, sqrt_approx, points)\n",
        "\n",
        "print(\"\\n\")\n",
        "\n",
        "lagrange_polynominal_eq(domain, sqrt_values)"
      ],
      "execution_count": 94,
      "outputs": [
        {
          "output_type": "stream",
          "text": [
            "            x       sqrt(x)\n",
            "-------------  ------------\n",
            " 0.0000000000  0.0000000000\n",
            " 1.2500000000  1.1180339887\n",
            " 2.5000000000  1.5811388301\n",
            " 3.7500000000  1.9364916731\n",
            " 5.0000000000  2.2360679775\n",
            " 6.2500000000  2.5000000000\n",
            " 7.5000000000  2.7386127875\n",
            " 8.7500000000  2.9580398915\n",
            "10.0000000000  3.1622776602\n",
            "\n",
            "\n",
            "           x          sqrt    sqrt interpolation    realtive error    absolute error\n",
            "------------  ------------  --------------------  ----------------  ----------------\n",
            "0.6250000000  0.7905694150          0.7283871006      0.0786550975      0.0621823144\n",
            "1.8750000000  1.3693063938          1.3740887282      0.0034925232      0.0047823344\n",
            "3.1250000000  1.7677669530          1.7666175872      0.0006501795      0.0011493658\n",
            "4.3750000000  2.0916500663          2.0921829621      0.0002547729      0.0005328958\n",
            "5.6250000000  2.3717082451          2.3712888349      0.0001768389      0.0004194102\n",
            "6.8750000000  2.6220221204          2.6225656382      0.0002072896      0.0005435178\n",
            "8.1250000000  2.8504385627          2.8492360423      0.0004218721      0.0012025205\n",
            "9.3750000000  3.0618621785          3.0670953106      0.0017091338      0.0052331322\n",
            "\n",
            "\n"
          ],
          "name": "stdout"
        },
        {
          "output_type": "execute_result",
          "data": {
            "text/plain": [
              "x*(-1.71451895288814e-6*x**7 + 7.76884119407205e-5*x**6 - 0.00148740448987239*x**5 + 0.0156758749680836*x**4 - 0.099322564388661*x**3 + 0.388694674726764*x**2 - 0.941629646351892*x + 1.6240980400927)"
            ]
          },
          "metadata": {
            "tags": []
          },
          "execution_count": 94
        }
      ]
    },
    {
      "cell_type": "code",
      "metadata": {
        "id": "-fvspdjIpgnk",
        "colab_type": "code",
        "colab": {
          "base_uri": "https://localhost:8080/",
          "height": 474
        },
        "outputId": "6f5cfffe-eac8-4125-a665-3d1b2632dcd0"
      },
      "source": [
        "domain = [0, 1.25, 2.5, 3.75, 5, 6.25, 7.5, 8.75, 10]\n",
        "points = [0.625, 1.875, 3.125, 4.375, 5.625, 6.875, 8.125, 9.375]\n",
        "sin_domain, sin_values = function_to_table(m.sin, \"sin(x)\", domain)\n",
        "print(\"\\n\")\n",
        "\n",
        "sin_approx = lambda x: lagrange_polynominal(sin_domain, sin_values, x)\n",
        "compare(\"sin\", m.sin, sin_approx, points)\n",
        "\n",
        "print(\"\\n\")\n",
        "\n",
        "lagrange_polynominal_eq(domain, sin_values)"
      ],
      "execution_count": 95,
      "outputs": [
        {
          "output_type": "stream",
          "text": [
            "            x         sin(x)\n",
            "-------------  -------------\n",
            " 0.0000000000   0.0000000000\n",
            " 1.2500000000   0.9489846194\n",
            " 2.5000000000   0.5984721441\n",
            " 3.7500000000  -0.5715613187\n",
            " 5.0000000000  -0.9589242747\n",
            " 6.2500000000  -0.0331792165\n",
            " 7.5000000000   0.9379999768\n",
            " 8.7500000000   0.6247239538\n",
            "10.0000000000  -0.5440211109\n",
            "\n",
            "\n",
            "           x            sin    sin interpolation    realtive error    absolute error\n",
            "------------  -------------  -------------------  ----------------  ----------------\n",
            "0.6250000000   0.5850972729         0.5931719178      0.0138005170      0.0080746449\n",
            "1.8750000000   0.9540857816         0.9536543206      0.0004522246      0.0004314610\n",
            "3.1250000000   0.0165918922         0.0162424864      0.0210588271      0.0003494058\n",
            "4.3750000000  -0.9436221923        -0.9430559505     -0.0006000726      0.0005662419\n",
            "5.6250000000  -0.6116822500        -0.6125820554     -0.0014710340      0.0008998054\n",
            "6.8750000000   0.5578680081         0.5597496306      0.0033728812      0.0018816225\n",
            "8.1250000000   0.9634987664         0.9576214039      0.0061000208      0.0058773625\n",
            "9.3750000000   0.0497574063         0.0826693553      0.6614482438      0.0329119490\n",
            "\n",
            "\n"
          ],
          "name": "stdout"
        },
        {
          "output_type": "execute_result",
          "data": {
            "text/plain": [
              "x*(-1.40296953938155e-5*x**7 + 0.000532426522627708*x**6 - 0.00761076285712041*x**5 + 0.0490143389632716*x**4 - 0.126259133200228*x**3 + 0.0612070660353259*x**2 - 0.219931176375359*x + 1.08666363912973)"
            ]
          },
          "metadata": {
            "tags": []
          },
          "execution_count": 95
        }
      ]
    },
    {
      "cell_type": "code",
      "metadata": {
        "id": "c9muIWarppry",
        "colab_type": "code",
        "colab": {
          "base_uri": "https://localhost:8080/",
          "height": 474
        },
        "outputId": "47dfa786-a8e9-488d-9ed0-f768586c5672"
      },
      "source": [
        "domain = [0, 1.25, 2.5, 3.75, 5, 6.25, 7.5, 8.75, 10]\n",
        "points = [0.625, 1.875, 3.125, 4.375, 5.625, 6.875, 8.125, 9.375]\n",
        "lambda_domain, lambda_values = function_to_table(lambda x: x**3 + 2 * x, \"lambda(x)\", domain)\n",
        "print(\"\\n\")\n",
        "\n",
        "lambda_approx = lambda x: lagrange_polynominal(lambda_domain, lambda_values, x)\n",
        "compare(\"lambda\", lambda x: x**3 + 2 * x, lambda_approx, points)\n",
        "\n",
        "print(\"\\n\")\n",
        "\n",
        "lagrange_polynominal_eq(domain, lambda_values)"
      ],
      "execution_count": 96,
      "outputs": [
        {
          "output_type": "stream",
          "text": [
            "            x        lambda(x)\n",
            "-------------  ---------------\n",
            " 0.0000000000     0.0000000000\n",
            " 1.2500000000     4.4531250000\n",
            " 2.5000000000    20.6250000000\n",
            " 3.7500000000    60.2343750000\n",
            " 5.0000000000   135.0000000000\n",
            " 6.2500000000   256.6406250000\n",
            " 7.5000000000   436.8750000000\n",
            " 8.7500000000   687.4218750000\n",
            "10.0000000000  1020.0000000000\n",
            "\n",
            "\n",
            "           x          lambda    lambda interpolation    realtive error    absolute error\n",
            "------------  --------------  ----------------------  ----------------  ----------------\n",
            "0.6250000000    1.4941406250            1.4941406250      0.0000000000      0.0000000000\n",
            "1.8750000000   10.3417968750           10.3417968750      0.0000000000      0.0000000000\n",
            "3.1250000000   36.7675781250           36.7675781250      0.0000000000      0.0000000000\n",
            "4.3750000000   92.4902343750           92.4902343750      0.0000000000      0.0000000000\n",
            "5.6250000000  189.2285156250          189.2285156250      0.0000000000      0.0000000000\n",
            "6.8750000000  338.7011718750          338.7011718750      0.0000000000      0.0000000000\n",
            "8.1250000000  552.6269531250          552.6269531250      0.0000000000      0.0000000000\n",
            "9.3750000000  842.7246093750          842.7246093750      0.0000000000      0.0000000000\n",
            "\n",
            "\n"
          ],
          "name": "stdout"
        },
        {
          "output_type": "execute_result",
          "data": {
            "text/plain": [
              "x*(2.77555756156289e-18*x**7 + 1.77635683940025e-16*x**6 - 7.1054273576009e-15*x**5 + 6.82121026329696e-14*x**4 - 1.81898940354586e-13*x**3 + 0.999999999999272*x**2 - 1.81898940354586e-13*x + 1.99999999999964)"
            ]
          },
          "metadata": {
            "tags": []
          },
          "execution_count": 96
        }
      ]
    },
    {
      "cell_type": "markdown",
      "metadata": {
        "id": "7LD6UxQFpuLz",
        "colab_type": "text"
      },
      "source": [
        "Im więcej węzłów interpolacji tym dokładniej wielomian odzwierciedla funkcje. W przypadku funkcji x^3 + 2x błąd jest tak niewielki że można go pominąć. Wynika to z tego że jest to wielomian przez co oszacowanie go przez wielomian Lagrange'a jest bardzo dokładne"
      ]
    }
  ]
}