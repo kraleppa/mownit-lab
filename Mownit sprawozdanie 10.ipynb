{
  "nbformat": 4,
  "nbformat_minor": 0,
  "metadata": {
    "colab": {
      "name": "Mownit sprawozdanie 10.ipynb",
      "provenance": []
    },
    "kernelspec": {
      "name": "python3",
      "display_name": "Python 3"
    }
  },
  "cells": [
    {
      "cell_type": "markdown",
      "metadata": {
        "id": "nROcDQNmzaAg",
        "colab_type": "text"
      },
      "source": [
        "# Krzysztof Nalepa\n",
        "## Sprawozdanie z ćwiczenia 10\n",
        "## Rozwiązywanie układu równań liniowych metodami rozkładu LU\n",
        "### Podaj zasadę działania metod opartych o dekompozycję LU."
      ]
    },
    {
      "cell_type": "markdown",
      "metadata": {
        "id": "pOi0gt_-dQTt",
        "colab_type": "text"
      },
      "source": [
        "Metoda rozkładu LU polega ona na rozłożeniu macierzy wejściowej na iloczyn macierzy trójkątnej dolnej oraz trójkątnej górnej. Dzięki rozłożeniu macierzy na dwie otrzymujemy dwa równania z macierzami trójkątnymi co znacznie ułatwia rozwiązywanie układu równań."
      ]
    },
    {
      "cell_type": "markdown",
      "metadata": {
        "id": "Kz5vsKrhz3k6",
        "colab_type": "text"
      },
      "source": [
        "### Zadanie 1\n",
        "Zaimplementuj metody rozkładu LU\n",
        "- Rozkład Crouta\n",
        "- Rozkład Doolitla\n",
        "- Rozkład Choleskyego <br>\n",
        "Dla każdej z metod podaj warunki niezbędne aby można ją było zastosować. Sprawdź poprawność działania tych metod.\n",
        "Przetestuj wydajność algorytmów dla kilku rozmiarów macierzy (podobnie jak w ćwiczeniu 9)."
      ]
    },
    {
      "cell_type": "markdown",
      "metadata": {
        "id": "5edVQPyZfTfi",
        "colab_type": "text"
      },
      "source": [
        "#### Warunki\n",
        "- Rozkład Crouta - Aby zastosować rozkład Crouta musi być spełniony warunek, aby na diagonali macierzy trójkątnej górnej muszą znajdować się wyłącznie 1\n",
        "- Rozkład Doolitla - Aby zastosować rozkład Doolitla musi być spełniony warunek, aby na diagonali macierzy trójkątnej dolnej muszą znajdować się wyłącznie 1\n",
        "- Rozkład Cholesky'ego - Aby zastosować rozkład Cholesky'ego wartości na diagonali macierzy trójkątnej górnej oraz na diagonali macierzy trójkątnej dolnej muszą być sobie równe, macierz wejściowa musi być symetryczna oraz dodatnio określona  "
      ]
    },
    {
      "cell_type": "code",
      "metadata": {
        "id": "nb2WDLGnu0t9",
        "colab_type": "code",
        "colab": {}
      },
      "source": [
        "from math import sqrt\n",
        "import numpy as np\n",
        "\n",
        "def crout_decomposition(A):\n",
        "    n = len(A)\n",
        "    L = [[0 for _ in range(n)] for _ in range(n)]\n",
        "    U = [[0 for _ in range(n)] for _ in range(n)]\n",
        "\n",
        "    for j in range(n):\n",
        "        U[j][j] = 1\n",
        "        for i in range(j, n):\n",
        "            a = A[i][j]\n",
        "            for k in range(j):\n",
        "                a -= L[i][k] * U[k][j]\n",
        "            L[i][j] = a\n",
        "        for i in range(j + 1, n):\n",
        "            tmp = A[j][i]\n",
        "            for k in range(j):\n",
        "                tmp -= L[j][k] * U[k][i]\n",
        "            if int(L[j][j]) == 0:\n",
        "                raise ZeroDivisionError()\n",
        "            U[j][i] = tmp / L[j][j]\n",
        "    return [L, U]\n",
        "\n",
        "def doolittle_decomposition(A):\n",
        "    n = len(A)\n",
        "    L = [[0 for _ in range(n)] for _ in range(n)]\n",
        "    U = [[0 for _ in range(n)] for _ in range(n)]\n",
        "\n",
        "    for i in range(n):\n",
        "        L[i][i] = 1.0\n",
        "        for j in range(i + 1):\n",
        "            sum1 = 0\n",
        "            for k in range(j):\n",
        "                sum1 += U[k][i] * L[j][k]\n",
        "            U[j][i] = A[j][i] - sum1\n",
        "        for j in range(i, n):\n",
        "            sum2 = 0\n",
        "            for k in range(i):\n",
        "                sum2 += U[k][i] * L[j][k]\n",
        "            L[j][i] = (A[j][i] - sum2) / U[i][i]\n",
        "\n",
        "    return [L, U]\n",
        "\n",
        "\n",
        "\n",
        "def cholesky_decomposition(A):\n",
        "    n = len(A)\n",
        "    L = [[0 for _ in range(n)] for _ in range(n)]\n",
        "    for i in range(n):\n",
        "        for j in range(i + 1):\n",
        "            s = 0\n",
        "            for k in range(j):\n",
        "                s += L[i][k] * L[j][k]\n",
        "            if i == j:\n",
        "                L[i][j] = math.sqrt(A[i][i] - s)\n",
        "            else:\n",
        "                L[i][j] = (1.0 / L[j][j] * (A[i][j] - s))\n",
        "\n",
        "    return [L, np.array(L).transpose()]"
      ],
      "execution_count": 0,
      "outputs": []
    },
    {
      "cell_type": "code",
      "metadata": {
        "id": "NjZm08dVQegO",
        "colab_type": "code",
        "colab": {
          "base_uri": "https://localhost:8080/",
          "height": 85
        },
        "outputId": "8f75a2b0-f36d-4855-c3fb-776b25a09d5a"
      },
      "source": [
        "A = [[4, 12, -16],\n",
        "     [12, 37, -43],\n",
        "     [-16, -43, 98]]\n",
        "B = [7, 3, 6]\n",
        "\n",
        "print(\"numpy values:\\t\\t\", np.linalg.solve(A, B))\n",
        "\n",
        "\n",
        "def solve(A, B, fun):\n",
        "    [L, U] = fun(A)\n",
        "    z = np.linalg.solve(L, B)\n",
        "    x = np.linalg.solve(U, z)\n",
        "    return x\n",
        "\n",
        "  \n",
        "print(\"crout values:\\t\\t\", solve(A, B, crout_decomposition))\n",
        "print(\"doolittle values:\\t\", solve(A, B, doolittle_decomposition))\n",
        "print(\"cholesky values:\\t\", solve(A, B, cholesky))\n",
        "\n"
      ],
      "execution_count": 69,
      "outputs": [
        {
          "output_type": "stream",
          "text": [
            "numpy values:\t\t [317.52777778 -86.88888889  13.77777778]\n",
            "crout values:\t\t [317.52777778 -86.88888889  13.77777778]\n",
            "doolittle values:\t [317.52777778 -86.88888889  13.77777778]\n",
            "cholesky values:\t [317.52777778 -86.88888889  13.77777778]\n"
          ],
          "name": "stdout"
        }
      ]
    },
    {
      "cell_type": "markdown",
      "metadata": {
        "id": "rxq9RBFike3Z",
        "colab_type": "text"
      },
      "source": [
        "Jak widać każda z metod dekompozycji zadziałała skutecznie, gdyż wynik rozwiązania układu równań w każdym przypadku pokrywa się z oczekiwaną wartością wyliczoną przez numpy"
      ]
    },
    {
      "cell_type": "markdown",
      "metadata": {
        "id": "ITPhCa2zuVjA",
        "colab_type": "text"
      },
      "source": [
        "Do przeprowadzenia pomiarów wydajności algorytmów dekompozycji skorzystałem z poniższego skryptu "
      ]
    },
    {
      "cell_type": "code",
      "metadata": {
        "id": "Cxy6DfxduvG3",
        "colab_type": "code",
        "colab": {}
      },
      "source": [
        "def random_sym_matrix(N):\n",
        "    A = np.random.randint(1, 100, size=(N, N))\n",
        "    return np.dot(A, A.transpose())\n",
        "\n",
        "\n",
        "def time_check():\n",
        "    n = randrange(10, 250)\n",
        "    A = random_sym_matrix(n).tolist()\n",
        "\n",
        "    start = time.time()\n",
        "    crout_decomposition(copy.deepcopy(A))\n",
        "    stop = time.time()\n",
        "    crout = stop - start\n",
        "\n",
        "    start = time.time()\n",
        "    doolittle_decomposition(copy.deepcopy(A))\n",
        "    stop = time.time()\n",
        "    doolittle = stop - start\n",
        "\n",
        "    start = time.time()\n",
        "    cholesky_decomposition(copy.deepcopy(A))\n",
        "    stop = time.time()\n",
        "    cholesky = stop - start\n",
        "\n",
        "    return crout, doolittle, cholesky, n\n",
        "\n",
        "\n",
        "# Main program starts here\n",
        "if __name__ == '__main__':\n",
        "    size_list = []\n",
        "    crout_list = []\n",
        "    doolittle_list = []\n",
        "    cholesky_list = []\n",
        "    for i in range(100):\n",
        "        crout, doolittle, cholesky, n = time_check()\n",
        "        crout_list.append(crout)\n",
        "        doolittle_list.append(doolittle)\n",
        "        cholesky_list.append(cholesky)\n",
        "        size_list.append(n)\n",
        "\n",
        "    f = open(\"dane.txt\", \"w+\")\n",
        "    for i in range(100):\n",
        "        f.write(f\"Matrix size: {size_list[i]} \\t crout: {crout_list[i]} \\t doolittle: {doolittle_list[i]} \\t cholesky: {cholesky_list[i]}\\n\")\n",
        "    f.close()\n",
        "\n",
        "    plt.plot(size_list, crout_list, 'bo', label=\"Crout\")\n",
        "    plt.plot(size_list, doolittle_list, 'ro', label=\"Doolittle\")\n",
        "    plt.plot(size_list, cholesky_list, 'go', label=\"Cholesky\")\n",
        "    plt.xlabel(\"Matrix size\")\n",
        "    plt.ylabel(\"Time\")\n",
        "    plt.title(\"Pomiary czasu przeprowadzania dekompozycji\")\n",
        "    plt.legend()\n",
        "    plt.savefig(\"wykres1\")"
      ],
      "execution_count": 0,
      "outputs": []
    },
    {
      "cell_type": "markdown",
      "metadata": {
        "id": "q5rSL4POvAQA",
        "colab_type": "text"
      },
      "source": [
        "Wyniki zamieściłem w pliku pdf "
      ]
    },
    {
      "cell_type": "markdown",
      "metadata": {
        "id": "4d7C-qIj0QA5",
        "colab_type": "text"
      },
      "source": [
        "### Zadanie 3\n",
        "Zapoznaj się z funkcją rozwiązywania układów równań liniowych dostarczoną przez bibliotekę numpy/scipy. Porównaj jej wydajność z własnymi implementacjami."
      ]
    },
    {
      "cell_type": "markdown",
      "metadata": {
        "id": "VBJnEMnIwQk4",
        "colab_type": "text"
      },
      "source": [
        "Biblioteki numpy oraz scipy udostępnia funkcję linlag.solve(), która służy do rozwiązywania układów równań.\n",
        "W celu porównania wydajności użyłem następującego skryptu"
      ]
    },
    {
      "cell_type": "code",
      "metadata": {
        "id": "IzEnRzPW4LqI",
        "colab_type": "code",
        "colab": {}
      },
      "source": [
        "\n",
        "def random_sym_matrix(N):\n",
        "    A = np.random.randint(1, 100, size=(N, N))\n",
        "    return np.dot(A, A.transpose())\n",
        "\n",
        "\n",
        "def random_vector(n):\n",
        "    return np.random.rand(n)\n",
        "\n",
        "\n",
        "kromka = 0\n",
        "\n",
        "\n",
        "def time_check():\n",
        "    global kromka\n",
        "    n = randrange(50, 300)\n",
        "    A = random_sym_matrix(n).tolist()\n",
        "    B = random_vector(n).tolist()\n",
        "\n",
        "    print(kromka)\n",
        "    kromka = kromka + 1\n",
        "    start = time.time()\n",
        "    solve(copy.deepcopy(A), copy.deepcopy(B), crout_decomposition)\n",
        "    stop = time.time()\n",
        "    crout = stop - start\n",
        "\n",
        "    start = time.time()\n",
        "    solve(copy.deepcopy(A), copy.deepcopy(B), doolittle_decomposition)\n",
        "    stop = time.time()\n",
        "    doolittle = stop - start\n",
        "\n",
        "    start = time.time()\n",
        "    solve(copy.deepcopy(A), copy.deepcopy(B), cholesky_decomposition)\n",
        "    stop = time.time()\n",
        "    cholesky = stop - start\n",
        "\n",
        "    start = time.time()\n",
        "    np.linalg.solve(copy.deepcopy(A), copy.deepcopy(B))\n",
        "    stop = time.time()\n",
        "    numpy = stop - start\n",
        "\n",
        "    start = time.time()\n",
        "    linalg.solve(copy.deepcopy(A), copy.deepcopy(B))\n",
        "    stop = time.time()\n",
        "    scipy = stop - start\n",
        "\n",
        "    return crout, doolittle, cholesky, numpy, scipy, n\n",
        "\n",
        "\n",
        "# Main program starts here\n",
        "if __name__ == '__main__':\n",
        "    size_list = []\n",
        "    crout_list = []\n",
        "    doolittle_list = []\n",
        "    cholesky_list = []\n",
        "    numpy_list = []\n",
        "    scipy_list = []\n",
        "    for i in range(200):\n",
        "        crout, doolittle, cholesky, numpy, scipy, n = time_check()\n",
        "        crout_list.append(crout)\n",
        "        doolittle_list.append(doolittle)\n",
        "        cholesky_list.append(cholesky)\n",
        "        numpy_list.append(numpy)\n",
        "        scipy_list.append(scipy)\n",
        "        size_list.append(n)\n",
        "\n",
        "    f = open(\"dane.txt\", \"w+\")\n",
        "    for i in range(200):\n",
        "        f.write(\n",
        "            f\"Matrix size: {size_list[i]} \\t crout: {crout_list[i]} \\t doolittle: {doolittle_list[i]} \\t cholesky: {cholesky_list[i]}\\n\"\n",
        "            f\"numpy: {numpy_list[i]}\\t scipy: {scipy_list[i]}\\n\")\n",
        "    f.close()\n",
        "\n",
        "    plt.plot(size_list, crout_list, 'bo', label=\"Crout\")\n",
        "    plt.plot(size_list, doolittle_list, 'ro', label=\"Doolittle\")\n",
        "    plt.plot(size_list, cholesky_list, 'go', label=\"Cholesky\")\n",
        "    plt.plot(size_list, numpy_list, 'yo', label=\"Numpy\")\n",
        "    plt.plot(size_list, scipy_list, 'co', label=\"Scipy\")\n",
        "    plt.xlabel(\"Matrix size\")\n",
        "    plt.ylabel(\"Time\")\n",
        "    plt.title(\"Pomiary czasu przeprowadzania rozwiązywania układów równań\")\n",
        "    plt.legend()\n",
        "    plt.savefig(\"wykres1\")\n"
      ],
      "execution_count": 0,
      "outputs": []
    },
    {
      "cell_type": "markdown",
      "metadata": {
        "id": "AYLjd9lg4NU4",
        "colab_type": "text"
      },
      "source": [
        "Wyniki zamieściłem w pliku pdf"
      ]
    }
  ]
}