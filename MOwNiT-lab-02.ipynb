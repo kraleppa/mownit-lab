{
 "cells": [
  {
   "cell_type": "markdown",
   "metadata": {},
   "source": [
    "## Algebra liniowa - biblioteki numeryczne \n",
    "W środowisku języka Python dostępne są dwie biblioteki numeryczne numpy i scipy. Dokumentacja: https://numpy.org/doc/, https://docs.scipy.org/doc/. Znajdź informacje wyjaśniające różnice między tymi bibliotekami. \n",
    "\n",
    "### Zadanie 1\n",
    "Napisz krótki program, który wyświetli informację o wersji biblioteki oraz jej konfiguracji. Zwróć uwagę z jakich bibliotek numerycznych korzystają biblioteki Python'a"
   ]
  },
  {
   "cell_type": "code",
   "execution_count": 20,
   "metadata": {},
   "outputs": [],
   "source": [
    "import numpy as np\n"
   ]
  },
  {
   "cell_type": "code",
   "execution_count": 21,
   "metadata": {},
   "outputs": [],
   "source": [
    "import scipy as scp\n"
   ]
  },
  {
   "cell_type": "markdown",
   "metadata": {},
   "source": [
    "### Zadanie 2 \n",
    "Napisz program, który wyświetla wbudowaną pomoc dla funkcji: dodawanie wektorów, "
   ]
  },
  {
   "cell_type": "code",
   "execution_count": null,
   "metadata": {},
   "outputs": [],
   "source": [
    "\n"
   ]
  },
  {
   "cell_type": "markdown",
   "metadata": {},
   "source": [
    "### Zadanie 3\n",
    "Napisz programy, które testują wektory danych pod kątem obecności elementów zerowych lub nieskończonych (sprawdź różne warianty takich funkcji). \n",
    "Napisz program porównujące wektory i macierze (według wartości elementów)."
   ]
  },
  {
   "cell_type": "code",
   "execution_count": null,
   "metadata": {},
   "outputs": [],
   "source": []
  },
  {
   "cell_type": "markdown",
   "metadata": {},
   "source": [
    "### Zadanie 4 \n",
    "Napisz program, który wylicza ile danych w bajtach zajmuje wektor lub macierz"
   ]
  },
  {
   "cell_type": "code",
   "execution_count": null,
   "metadata": {},
   "outputs": [],
   "source": []
  },
  {
   "cell_type": "markdown",
   "metadata": {},
   "source": [
    "### Zadanie 5\n",
    "Napisz kilka programów, które demonstrują jak można w numpy tworzyć wektory i macierze wypełnione różnymi danymi lub mającymi pewną szczególną postać, np. , danymi losowymi, danymi z podanego zakresy, macierze identyczności, ... "
   ]
  },
  {
   "cell_type": "code",
   "execution_count": null,
   "metadata": {},
   "outputs": [],
   "source": []
  },
  {
   "cell_type": "markdown",
   "metadata": {},
   "source": [
    "### Zadania 6\n",
    "Napisz programy wykonujący podstawowe operacje algebry: dodawanie wektórów, mnożenie wektorów, mnożenia macierzy. Najpierw napisz je w wersji szkolnej, nie zastanawiając się nad jakąkolwiek optymalizacją. Następnie spróbuj zmienić organizację obliczeń tak by uzyskać poprawę wydajności. Na koniec porównaj swoje metody do dedykowanych funkcji z bibliotek NumPy i SciPy. \n"
   ]
  },
  {
   "cell_type": "code",
   "execution_count": null,
   "metadata": {},
   "outputs": [],
   "source": [
    "\n"
   ]
  }
 ],
 "metadata": {
  "kernelspec": {
   "display_name": "Python 3",
   "language": "python",
   "name": "python3"
  },
  "language_info": {
   "codemirror_mode": {
    "name": "ipython",
    "version": 3
   },
   "file_extension": ".py",
   "mimetype": "text/x-python",
   "name": "python",
   "nbconvert_exporter": "python",
   "pygments_lexer": "ipython3",
   "version": "3.7.3"
  }
 },
 "nbformat": 4,
 "nbformat_minor": 2
}
