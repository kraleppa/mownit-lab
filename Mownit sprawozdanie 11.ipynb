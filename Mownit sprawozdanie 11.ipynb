{
  "nbformat": 4,
  "nbformat_minor": 0,
  "metadata": {
    "kernelspec": {
      "display_name": "Python 3",
      "language": "python",
      "name": "python3"
    },
    "language_info": {
      "codemirror_mode": {
        "name": "ipython",
        "version": 3
      },
      "file_extension": ".py",
      "mimetype": "text/x-python",
      "name": "python",
      "nbconvert_exporter": "python",
      "pygments_lexer": "ipython3",
      "version": "3.8.2"
    },
    "colab": {
      "name": "MOwNiT - lab. ćw. 11.ipynb",
      "provenance": []
    }
  },
  "cells": [
    {
      "cell_type": "markdown",
      "metadata": {
        "id": "fwRK-24yK7vz",
        "colab_type": "text"
      },
      "source": [
        "# Krzysztof Nalepa\n",
        "## Sprawozdanie z ćwiczenia 11\n",
        "## Rozwiązywanie układów równań liniowych metodami interacyjnymi \n",
        "\n",
        "### Zadanie 1\n",
        "Zaimplementuj metodę Jacobiego. Podaj warunki jej stosowalności. Wygeneruj co najmniej trzy odpowiednie macierze o różnych wielkościach i sprawdź działanie swojej metody. Zwróć uwagę na zbieżność tej metody. \n",
        "\n",
        "\n",
        "\n"
      ]
    },
    {
      "cell_type": "markdown",
      "metadata": {
        "id": "sjS0ueyjVVgh",
        "colab_type": "text"
      },
      "source": [
        "Warunki stosowalności metody Jacobiego: \n",
        "\n",
        "\n",
        "*   Macierz A jest nieredukowalna - oznacza to że nie można sprowadzić jej do postaci blokowej trójkątnej górnej poprzez przestawienie wierzszy i kolumn\n",
        "*   Macierz A jest diagonalnie dominująca - oznacza to że elementy na diagonali są większe niż suma elementów w danej kolumnie\n",
        "\n",
        "\n",
        "\n"
      ]
    },
    {
      "cell_type": "code",
      "metadata": {
        "id": "Si56rDMlNNca",
        "colab_type": "code",
        "colab": {}
      },
      "source": [
        "import numpy as np\n",
        "import random\n",
        "\n",
        "def jacobi_method(A, B, iterations):\n",
        "    eps = 1e-10\n",
        "    D = np.diag(np.diag(A))\n",
        "    LU = A - D\n",
        "    x = np.zeros(len(B))\n",
        "    for i in range(iterations):\n",
        "        D_inv = np.diag(1 / np.diag(D))\n",
        "        x2 = np.dot(D_inv, B - np.dot(LU, x))\n",
        "        if np.linalg.norm(x2 - x) < eps:\n",
        "            return x2, i\n",
        "        x = x2\n",
        "\n",
        "    return x, iterations\n",
        "\n",
        "def random_matrix(min, max, N):\n",
        "    A = np.zeros((N, N))\n",
        "    for i in range(N):\n",
        "        sum = 0\n",
        "        for j in range(N):\n",
        "            if j >= i:\n",
        "                A[i][j] = A[j][i] = random.randint(min, max)\n",
        "            if i != j:\n",
        "                sum += abs(A[i][j])\n",
        "        A[i][i] = sum\n",
        "    return A\n",
        "\n",
        "def random_vector(N):\n",
        "    return np.random.rand(N)"
      ],
      "execution_count": 0,
      "outputs": []
    },
    {
      "cell_type": "code",
      "metadata": {
        "id": "eQDKPKglUyid",
        "colab_type": "code",
        "colab": {
          "base_uri": "https://localhost:8080/",
          "height": 374
        },
        "outputId": "679b9816-e6e6-4d86-c01f-fe29fddc64c4"
      },
      "source": [
        "A = random_matrix(-10, 10, 4)\n",
        "B = random_vector(4)\n",
        "\n",
        "print(\"Numpy result: \", np.linalg.solve(A, B), \"\\n\")\n",
        "res = jacobi_method(A, B, 1000)\n",
        "print(\"Jacobi result: \", res[0], \" iterations: \", res[1], \"\\n\\n\")\n",
        "\n",
        "A = random_matrix(-10, 10, 10)\n",
        "B = random_vector(10)\n",
        "\n",
        "print(\"Numpy result: \", np.linalg.solve(A, B), \"\\n\")\n",
        "res = jacobi_method(A, B, 1000)\n",
        "print(\"Jacobi result: \", res[0], \" iterations: \", res[1], \"\\n\\n\")\n",
        "\n",
        "\n",
        "A = random_matrix(-10, 10, 20)\n",
        "B = random_vector(20)\n",
        "\n",
        "print(\"Numpy result: \", np.linalg.solve(A, B), \"\\n\")\n",
        "res = jacobi_method(A, B, 1000)\n",
        "print(\"Jacobi result: \", res[0], \" iterations: \", res[1])\n",
        "\n"
      ],
      "execution_count": 82,
      "outputs": [
        {
          "output_type": "stream",
          "text": [
            "Numpy result:  [0.07342986 0.08111879 0.07072224 0.00369798] \n",
            "\n",
            "Jacobi result:  [0.07342986 0.08111879 0.07072224 0.00369798]  iterations:  94 \n",
            "\n",
            "\n",
            "Numpy result:  [0.02345111 0.00371957 0.00936093 0.01934159 0.00569878 0.02157816\n",
            " 0.01976334 0.00799105 0.00416211 0.01926392] \n",
            "\n",
            "Jacobi result:  [0.02345111 0.00371957 0.00936093 0.01934159 0.00569878 0.02157816\n",
            " 0.01976334 0.00799105 0.00416211 0.01926392]  iterations:  51 \n",
            "\n",
            "\n",
            "Numpy result:  [ 0.00362174  0.01137623  0.00128806  0.00330991  0.00282539  0.0042925\n",
            "  0.00383654  0.00645235 -0.0001311   0.00299623 -0.00158906  0.00700796\n",
            "  0.00967226  0.01087291  0.00024722  0.00932683  0.00748172  0.00676385\n",
            "  0.00398393  0.00511062] \n",
            "\n",
            "Jacobi result:  [ 0.00362174  0.01137623  0.00128806  0.00330991  0.00282539  0.0042925\n",
            "  0.00383654  0.00645235 -0.0001311   0.00299623 -0.00158906  0.00700796\n",
            "  0.00967226  0.01087291  0.00024722  0.00932683  0.00748172  0.00676385\n",
            "  0.00398393  0.00511062]  iterations:  24\n"
          ],
          "name": "stdout"
        }
      ]
    },
    {
      "cell_type": "markdown",
      "metadata": {
        "id": "cmyX2Vc2bI2u",
        "colab_type": "text"
      },
      "source": [
        "Jak widać numpy daje takie same wyniki jak zaimplementowana przeze mnie metoda Jacobiego."
      ]
    },
    {
      "cell_type": "markdown",
      "metadata": {
        "id": "T9Z-EFcYNN9L",
        "colab_type": "text"
      },
      "source": [
        "### Zadanie 2\n",
        "Zaimplementuj metodę Gaussa-Seidla i kolejnych nadrelaksacji (successive over-relaxation). Podaj warunki stosowalności tych metod. Przeprowadź badanie działania swoich implementacji analogicznie jak w poprzednim zadaniu. Porównaj zbieżność wszystkich trzech metod. "
      ]
    },
    {
      "cell_type": "markdown",
      "metadata": {
        "id": "ukvRojD9f-cs",
        "colab_type": "text"
      },
      "source": [
        "Metody Gaussa-Seidla oraz succesive over-relaxation posiadają te same warunki zbiezności co metoda Jacobiego"
      ]
    },
    {
      "cell_type": "code",
      "metadata": {
        "id": "d_OV3jnBbjLr",
        "colab_type": "code",
        "colab": {}
      },
      "source": [
        "def gauss_seidl_method(A, B, iterations):\n",
        "    eps = 1e-10\n",
        "    x = np.zeros(len(B))\n",
        "    for i in range(iterations):\n",
        "        x2 = np.zeros(len(B))\n",
        "        for i in range(A.shape[0]):\n",
        "            s1 = np.dot(A[i, :i], x2[:i])\n",
        "            s2 = np.dot(A[i, i + 1:], x[i + 1:])\n",
        "            x2[i] = (B[i] - s1 - s2) / A[i, i]\n",
        "        if np.allclose(x, x2, rtol=eps):\n",
        "            return x2, i\n",
        "        x = x2\n",
        "    return x, iterations"
      ],
      "execution_count": 0,
      "outputs": []
    },
    {
      "cell_type": "code",
      "metadata": {
        "id": "AiQtr_ame2vp",
        "colab_type": "code",
        "colab": {
          "base_uri": "https://localhost:8080/",
          "height": 442
        },
        "outputId": "46852c57-590d-436f-e00d-b6f0a79cfd3c"
      },
      "source": [
        "A = random_matrix(-50, 50, 4)\n",
        "B = random_vector(4)\n",
        "\n",
        "print(\"Numpy result: \", np.linalg.solve(A, B), \"\\n\")\n",
        "res = gauss_seidl_method(A, B, 1000)\n",
        "print(\"Gauss Seidl result: \", res[0], \" iterations: \", res[1], \"\\n\\n\")\n",
        "\n",
        "A = random_matrix(-50, 50, 10)\n",
        "B = random_vector(10)\n",
        "\n",
        "print(\"Numpy result: \", np.linalg.solve(A, B), \"\\n\")\n",
        "res = gauss_seidl_method(A, B, 1000)\n",
        "print(\"Gauss Seidl result: \", res[0], \" iterations: \", res[1], \"\\n\\n\")\n",
        "\n",
        "A = random_matrix(-50, 50, 20)\n",
        "B = random_vector(20)\n",
        "\n",
        "print(\"Numpy result: \", np.linalg.solve(A, B), \"\\n\")\n",
        "res = gauss_seidl_method(A, B, 1000)\n",
        "print(\"Gauss Seidl result: \", res[0], \" iterations: \", res[1], \"\\n\\n\")"
      ],
      "execution_count": 52,
      "outputs": [
        {
          "output_type": "stream",
          "text": [
            "Numpy result:  [0.06309472 0.07352883 0.08036338 0.07852016] \n",
            "\n",
            "Gauss Seidl result:  [0.06309468 0.07352879 0.08036334 0.07852013]  iterations:  3 \n",
            "\n",
            "\n",
            "Numpy result:  [ 0.00244521  0.00214964  0.00500003  0.00376697  0.00478917  0.00466079\n",
            " -0.00019946  0.00193707  0.00639856 -0.00195565] \n",
            "\n",
            "Gauss Seidl result:  [ 0.00244521  0.00214964  0.00500003  0.00376697  0.00478917  0.00466079\n",
            " -0.00019946  0.00193707  0.00639856 -0.00195565]  iterations:  9 \n",
            "\n",
            "\n",
            "Numpy result:  [ 1.99792298e-03  9.78968505e-04  4.14368693e-04  2.11773693e-03\n",
            "  2.13510250e-03  1.18282310e-05 -1.36002107e-04  1.94520788e-03\n",
            "  7.05930092e-04  7.63630145e-04  1.74625444e-03  2.72309318e-05\n",
            "  8.84987103e-04  1.77497239e-03  1.70358919e-03 -2.35674438e-04\n",
            "  4.75118382e-04  7.13855361e-04  1.70746720e-03  1.26287286e-03] \n",
            "\n",
            "Gauss Seidl result:  [ 1.99792297e-03  9.78967693e-04  4.14368268e-04  2.11773680e-03\n",
            "  2.13510246e-03  1.18280974e-05 -1.36001599e-04  1.94520805e-03\n",
            "  7.05930541e-04  7.63629993e-04  1.74625435e-03  2.72307367e-05\n",
            "  8.84986956e-04  1.77497225e-03  1.70358932e-03 -2.35674238e-04\n",
            "  4.75118481e-04  7.13855363e-04  1.70746700e-03  1.26287274e-03]  iterations:  19 \n",
            "\n",
            "\n"
          ],
          "name": "stdout"
        }
      ]
    },
    {
      "cell_type": "code",
      "metadata": {
        "id": "OiHT_ZC_gYw5",
        "colab_type": "code",
        "colab": {}
      },
      "source": [
        "def sor_method(A, B, omega, iterations):\n",
        "    eps = 1e-10\n",
        "    x = np.zeros(len(B))\n",
        "    if omega < 0 or omega > 2:\n",
        "        return None, None\n",
        "\n",
        "    n = B.shape\n",
        "    x2 = np.zeros(len(B))\n",
        "\n",
        "    for j in range(iterations):\n",
        "        for i in range (n[0]):\n",
        "            new_values_sum = np.dot(A[i, :i], x[:i])\n",
        "            old_values_sum = np.dot(A[i, i + 1:], x2[i + 1:])\n",
        "            x[i] = (B[i] - (old_values_sum + new_values_sum)) / A[i, i]\n",
        "            x[i] = np.dot(x[i], omega) + np.dot(x2[i], (1 - omega))\n",
        "\n",
        "        if np.linalg.norm(np.dot(A, x) - B) < eps:\n",
        "            return x2, i\n",
        "        x2 = x\n",
        "\n",
        "    return x, iterations"
      ],
      "execution_count": 0,
      "outputs": []
    },
    {
      "cell_type": "code",
      "metadata": {
        "id": "5dlP0WDbjFfy",
        "colab_type": "code",
        "colab": {
          "base_uri": "https://localhost:8080/",
          "height": 442
        },
        "outputId": "c1ab7c8e-1765-447d-ef86-99b47e3f1686"
      },
      "source": [
        "A = random_matrix(-50, 50, 4)\n",
        "B = random_vector(4)\n",
        "\n",
        "print(\"Numpy result: \", np.linalg.solve(A, B), \"\\n\")\n",
        "res = sor_method(A, B, 0.3, 1000)\n",
        "print(\"Gauss Seidl result: \", res[0], \" iterations: \", res[1], \"\\n\\n\")\n",
        "\n",
        "\n",
        "A = random_matrix(-50, 50, 10)\n",
        "B = random_vector(10)\n",
        "\n",
        "print(\"Numpy result: \", np.linalg.solve(A, B), \"\\n\")\n",
        "res = sor_method(A, B, 0.3, 1000)\n",
        "print(\"Gauss Seidl result: \", res[0], \" iterations: \", res[1], \"\\n\\n\")\n",
        "\n",
        "\n",
        "A = random_matrix(-50, 50, 20)\n",
        "B = random_vector(20)\n",
        "\n",
        "print(\"Numpy result: \", np.linalg.solve(A, B), \"\\n\")\n",
        "res = sor_method(A, B, 0.3, 1000)\n",
        "print(\"Gauss Seidl result: \", res[0], \" iterations: \", res[1], \"\\n\\n\")"
      ],
      "execution_count": 65,
      "outputs": [
        {
          "output_type": "stream",
          "text": [
            "Numpy result:  [0.00109374 0.0057807  0.0038484  0.00434673] \n",
            "\n",
            "Gauss Seidl result:  [0.00109374 0.0057807  0.0038484  0.00434673]  iterations:  3 \n",
            "\n",
            "\n",
            "Numpy result:  [ 0.00018965  0.00101315  0.00414672  0.00157333  0.0027053  -0.00066909\n",
            "  0.00414528  0.00098439  0.00308997  0.00027636] \n",
            "\n",
            "Gauss Seidl result:  [ 0.00018965  0.00101315  0.00414672  0.00157333  0.0027053  -0.00066909\n",
            "  0.00414528  0.00098439  0.00308997  0.00027636]  iterations:  9 \n",
            "\n",
            "\n",
            "Numpy result:  [ 1.89023412e-03  1.18552773e-03  9.22167965e-05 -3.51315540e-04\n",
            "  1.64241254e-03  2.95777331e-03  2.11642863e-03  1.79498553e-03\n",
            "  6.39467379e-04  2.15978553e-03  8.73776512e-04  1.23940664e-03\n",
            "  1.53068253e-03  6.20129352e-04  1.29723190e-03  5.90159045e-04\n",
            "  2.53055005e-03  2.89653007e-03  1.84810167e-03  2.56953015e-03] \n",
            "\n",
            "Gauss Seidl result:  [ 1.89023412e-03  1.18552773e-03  9.22167966e-05 -3.51315540e-04\n",
            "  1.64241254e-03  2.95777331e-03  2.11642863e-03  1.79498553e-03\n",
            "  6.39467379e-04  2.15978553e-03  8.73776512e-04  1.23940664e-03\n",
            "  1.53068253e-03  6.20129352e-04  1.29723190e-03  5.90159045e-04\n",
            "  2.53055005e-03  2.89653007e-03  1.84810167e-03  2.56953015e-03]  iterations:  19 \n",
            "\n",
            "\n"
          ],
          "name": "stdout"
        }
      ]
    },
    {
      "cell_type": "markdown",
      "metadata": {
        "id": "13Gbvzc0lehy",
        "colab_type": "text"
      },
      "source": [
        "Jak widać obydwie metody dają takie same wyniki jak numpy"
      ]
    },
    {
      "cell_type": "code",
      "metadata": {
        "id": "qYp8UCSal7Cz",
        "colab_type": "code",
        "colab": {
          "base_uri": "https://localhost:8080/",
          "height": 119
        },
        "outputId": "949f8e4e-68bd-4cd7-c231-bc47ca038d4f"
      },
      "source": [
        "import copy\n",
        "\n",
        "def compare_methods(A, B, iterations):\n",
        "    print(\"Jacobi iterations: \", jacobi_method(copy.deepcopy(A), copy.deepcopy(B), iterations)[1], \"\\n\")\n",
        "    print(\"Gauss-Siedla iterations: \", gauss_seidl_method(copy.deepcopy(A), copy.deepcopy(B), iterations)[1], \"\\n\")\n",
        "    print(\"SOR iterations: \", sor_method(copy.deepcopy(A), copy.deepcopy(B), 0.3, iterations)[1], \"\\n\")\n",
        "\n",
        "A = random_matrix(-10, 10, 10)\n",
        "B = random_vector(10)\n",
        "\n",
        "compare_methods(A, B, 1000)\n"
      ],
      "execution_count": 88,
      "outputs": [
        {
          "output_type": "stream",
          "text": [
            "Jacobi iterations:  50 \n",
            "\n",
            "Gauss-Siedla iterations:  9 \n",
            "\n",
            "SOR iterations:  9 \n",
            "\n"
          ],
          "name": "stdout"
        }
      ]
    }
  ]
}