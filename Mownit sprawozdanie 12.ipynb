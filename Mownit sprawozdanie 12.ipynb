{
  "nbformat": 4,
  "nbformat_minor": 0,
  "metadata": {
    "colab": {
      "name": "Untitled0.ipynb",
      "provenance": []
    },
    "kernelspec": {
      "name": "python3",
      "display_name": "Python 3"
    }
  },
  "cells": [
    {
      "cell_type": "markdown",
      "metadata": {
        "id": "dKWhB_jlhQJO",
        "colab_type": "text"
      },
      "source": [
        "# Krzysztof Nalepa\n",
        "## Sprawozdanie z ćwiczenia 12\n",
        "### Rozwiązywanie równań różniczkowych metodami algebry liniowej"
      ]
    },
    {
      "cell_type": "markdown",
      "metadata": {
        "id": "gydAe-P1h7sj",
        "colab_type": "text"
      },
      "source": [
        "#### Zadanie 1\n",
        "Zaimplementuj metodą iteracyjną rozwiązywania układów równań Czebyszewa. "
      ]
    },
    {
      "cell_type": "code",
      "metadata": {
        "id": "IluJSLOThkG1",
        "colab_type": "code",
        "colab": {}
      },
      "source": [
        "import numpy as np\n",
        "from scipy.linalg import norm\n",
        "\n",
        "def chebyshev_method(A, B, iterations, l_max, l_min):\n",
        "    d = (l_max + l_min) / 2\n",
        "    c = (l_max - l_min) / 2\n",
        "    x = np.zeros(len(B))\n",
        "    r = B - np.matmul(A, x)\n",
        "\n",
        "    for i in range(1, iterations + 1):\n",
        "        z = np.linalg.solve(A, r)\n",
        "        alpha = 1\n",
        "        if i == 1:\n",
        "            p = z\n",
        "            alpha = 1 / d\n",
        "        elif i == 2:\n",
        "            beta = 0.5 * (c * alpha) ** 2\n",
        "            alpha = 1 / (d - beta / alpha)\n",
        "            p = z + beta * p\n",
        "        else:\n",
        "            beta = (c * alpha / 2) ** 2\n",
        "            alpha = 1 / (d - beta / alpha)\n",
        "            p = z + beta * p\n",
        "        x = x + alpha * p\n",
        "        r = np.matmul(A, x)\n",
        "        r = B - r\n",
        "        if norm(r) < 1e-10:\n",
        "            return x, i"
      ],
      "execution_count": 0,
      "outputs": []
    },
    {
      "cell_type": "markdown",
      "metadata": {
        "id": "l7fc5lHZh-ML",
        "colab_type": "text"
      },
      "source": [
        "#### Zadanie 2\n",
        "Zapoznaj się z prezentacją dr Rycerz o sposobie rozwiązywaniu równania różniczkowego Poissona dla dwóch wymiarów (metoda różnic skończonych).\n",
        "\n",
        "Rozwiąż równanie Poissona w przestrzeni 2D. Funkcja rozkładu źródeł ma postać: $$\\rho(x,y) = \\frac{x+y}{2}$$    \n",
        "Obliczenia dokonujemy w obszarze dwuwymiarowym: $$\\Omega = [0,10] \\times [0,10]$$ Siatkę proszę dobrać samodzielnie tak by obliczenie nie było zbyt długie (na podstawie wcześniejszy testów metod iteracyjnych).   \n",
        "Warunki brzegowe jednorodne Dirichleta: 0 na brzegach. \n",
        "\n",
        "Przedstaw sposób konstrukcji układu równań w metodzie różnic skończonych dla tego równiania. Przedstaw rozwiązanie graficznie. "
      ]
    },
    {
      "cell_type": "markdown",
      "metadata": {
        "id": "dt18Y_5Tpqtt",
        "colab_type": "text"
      },
      "source": [
        "Równanie Poissona można zapisać w ogólnej postaci jako\n",
        "$\\nabla^{2}\\varphi(x,y) = - \t\\rho(x,y)$ <br>\n",
        "gdzie <br>$\\nabla^{2}$ - operator Laplace'a<br>\n",
        "$\\rho(x,y) = \\frac{x+y}{2}$ - funkcja rozkładu źródeł<br>\n",
        "Powyższe równanie można zapisać również jako <br>\n",
        "$\\frac{\\partial^{2}\\varphi(x,y)}{\\partial x^{2}}$ + $\\frac{\\partial^{2}\\varphi(x,y)}{\\partial y^{2}} = -\\rho(x,y)$ <br>\n",
        "\n",
        "W naszym przypadku mamy warunki przegowe Dirichleta, więc: <br>\n",
        "$\\varphi(0,y) = 0$ <br>\n",
        "$\\varphi(n+1,y) = 0$ <br>\n",
        "$\\varphi(x,0) = 0$ <br> \n",
        "$\\varphi(x,n+1) = 0$ <br>\n",
        "\n",
        "\n",
        "Bierzemy siatkę o niezbyt dużych rozmiarach (10x10), a następnie wyliczamy przybliżenie pochodnych za pomocą różnic skończonych. <br>\n",
        "### $\\frac{\\partial \\varphi_{i,j}}{\\partial x} = \\frac{\\varphi_{i+1,j}-\\varphi_{i-1,j}}{2h} + O(h^{2})$ <br>\n",
        "### $\\frac{\\partial^{2} \\varphi_{i,j}}{\\partial x^{2}} = \\frac{\\varphi_{i+1,j}-2 \\varphi_{i,j}+\\varphi_{i-1,j}}{h^{2}} + O(h^{2})$ <br>\n",
        "### $\\frac{\\partial \\varphi_{i,j}}{\\partial y} = \\frac{\\varphi_{i,j+1}-\\varphi_{i, j-1}}{2h} + O(h^{2})$ <br>\n",
        "### $\\frac{\\partial^{2} \\varphi_{i,j}}{\\partial y^{2}} = \\frac{\\varphi_{i,j+1}-2 \\varphi_{i,j}+\\varphi_{i,j-1}}{h^{2}} + O(h^{2})$ <br>\n",
        "Następne podstawiamy równania do równania wyjściowego i po skróceniu otrzymujemy coś takiego <br>\n",
        "## $\\frac{\\varphi(x_{i}, y_{j-1}) + \n",
        "\\varphi(x_{i-1}, y_{j}) - \n",
        "4*\\varphi(x_{i}, y_{j}) +\n",
        "\\varphi(x_{i+1}, y_{j}) +\n",
        "\\varphi(x_{i}, y_{j+1})}{h^{2}} = -\\rho(x,y)$ <br>\n",
        "Dla każego z punktów  $(x_{i}, y_{j})$ i wtedy nasze równanie jest zależne od $(x_{i+1}, y_{j})$, $(x_{i-1}, y_{j})$, $(x_{i}, y_{j+1})$, $(x_{i}, y_{j-1})$. Żeby policzyć wartości funkcji $\\varphi$ dla każdego punktu z siatki 10x10 musimy mieć 100 równań i 100 niewiadomych\n",
        "\n",
        "\n",
        "\n",
        "\n"
      ]
    },
    {
      "cell_type": "code",
      "metadata": {
        "id": "uUdcp-euiNsy",
        "colab_type": "code",
        "colab": {
          "base_uri": "https://localhost:8080/",
          "height": 319
        },
        "outputId": "4dd73b3f-8ef7-4cc7-b6bb-173927dfcfd1"
      },
      "source": [
        "N = 10\n",
        "phi = lambda x, y: (x + y) / 2\n",
        "\n",
        "def create_matrix_A():\n",
        "    A = np.zeros((N**2, N**2))\n",
        "    for i in range(N**2):\n",
        "        A[i][i] = -4\n",
        "        if i - 1 >= 0: \n",
        "            A[i-1][i] = 1.0\n",
        "        if i + 1 < N**2: \n",
        "            A[i+1][i] = 1.0\n",
        "        if i - N >= 0: \n",
        "            A[i-N][i] = 1.0\n",
        "        if i + N < N**2: \n",
        "            A[i+N][i] = 1.0\n",
        "    return A\n",
        "\n",
        "def create_matrix_B():\n",
        "    b = np.zeros(N ** 2)\n",
        "    c = 0\n",
        "    for i in range(1, N + 1):\n",
        "        for j in range(1, N + 1):\n",
        "            b[c] = phi(j, i)\n",
        "            c += 1\n",
        "    return b\n",
        "\n",
        "A = create_matrix_A()\n",
        "B = create_matrix_B()\n",
        "print(A, \"\\n\\n\")\n",
        "\n",
        "print(B)"
      ],
      "execution_count": 61,
      "outputs": [
        {
          "output_type": "stream",
          "text": [
            "[[-4.  1.  0. ...  0.  0.  0.]\n",
            " [ 1. -4.  1. ...  0.  0.  0.]\n",
            " [ 0.  1. -4. ...  0.  0.  0.]\n",
            " ...\n",
            " [ 0.  0.  0. ... -4.  1.  0.]\n",
            " [ 0.  0.  0. ...  1. -4.  1.]\n",
            " [ 0.  0.  0. ...  0.  1. -4.]] \n",
            "\n",
            "\n",
            "[ 1.   1.5  2.   2.5  3.   3.5  4.   4.5  5.   5.5  1.5  2.   2.5  3.\n",
            "  3.5  4.   4.5  5.   5.5  6.   2.   2.5  3.   3.5  4.   4.5  5.   5.5\n",
            "  6.   6.5  2.5  3.   3.5  4.   4.5  5.   5.5  6.   6.5  7.   3.   3.5\n",
            "  4.   4.5  5.   5.5  6.   6.5  7.   7.5  3.5  4.   4.5  5.   5.5  6.\n",
            "  6.5  7.   7.5  8.   4.   4.5  5.   5.5  6.   6.5  7.   7.5  8.   8.5\n",
            "  4.5  5.   5.5  6.   6.5  7.   7.5  8.   8.5  9.   5.   5.5  6.   6.5\n",
            "  7.   7.5  8.   8.5  9.   9.5  5.5  6.   6.5  7.   7.5  8.   8.5  9.\n",
            "  9.5 10. ]\n"
          ],
          "name": "stdout"
        }
      ]
    },
    {
      "cell_type": "code",
      "metadata": {
        "id": "vDIAYemMzS3H",
        "colab_type": "code",
        "colab": {
          "base_uri": "https://localhost:8080/",
          "height": 408
        },
        "outputId": "35019ab5-dcd6-4dc7-dc05-44e197da1275"
      },
      "source": [
        "res, it = chebyshev_method(A, B, 1000, 0, 2)\n",
        "print(f\"Liczba iteracji: {it} \\n Rozwiązanie\")\n",
        "\n",
        "print(res)"
      ],
      "execution_count": 62,
      "outputs": [
        {
          "output_type": "stream",
          "text": [
            "Liczba iteracji: 1 \n",
            " Rozwiązanie\n",
            "[-12.38060444 -16.96024437 -19.29167572 -20.93570123 -22.34404399\n",
            " -23.634568   -24.82158505 -25.9051561  -26.95653179 -28.34429975\n",
            " -31.5621734  -34.66869733 -37.27075727 -39.60708523 -41.80590671\n",
            " -43.87264298 -45.74661611 -47.34250757 -48.57667129 -49.35849381\n",
            " -49.35509209 -50.88161427 -53.01557078 -55.41597573 -57.89985464\n",
            " -60.30348108 -62.44972884 -64.14158678 -65.14915201 -65.15791209\n",
            " -63.61808687 -63.98709688 -65.49393587 -67.64139225 -70.07405506\n",
            " -72.49169784 -74.6072314  -76.12495869 -76.72043787 -76.00591569\n",
            " -73.47224643 -72.9547505  -73.83168357 -75.58160233 -77.76327552\n",
            " -79.98202382 -81.86254023 -83.03057872 -83.10172509 -81.67306636\n",
            " -78.31023266 -77.02797512 -77.29644558 -78.59005797 -80.41542088\n",
            " -82.31058168 -83.83032698 -84.53309088 -83.98281742 -81.77439199\n",
            " -77.56764274 -75.55047172 -75.23606567 -76.0667631  -77.49776834\n",
            " -79.01455505 -80.11509514 -80.28864039 -79.02206171 -75.87404143\n",
            " -70.63547459 -67.87020335 -67.03058229 -67.44316043 -68.49433433\n",
            " -69.63477502 -70.32685815 -69.98431383 -67.94274761 -63.56423745\n",
            " -56.73001083 -53.2642848  -52.07289972 -52.18096198 -52.90163352\n",
            " -53.70335257 -54.07324862 -53.37900915 -50.70037744 -44.71014991\n",
            " -34.45604651 -30.88402528 -29.81576981 -29.80615425 -30.22788522\n",
            " -30.7037531  -30.88377461 -30.25809672 -27.7696031  -20.61993825]\n"
          ],
          "name": "stdout"
        }
      ]
    },
    {
      "cell_type": "code",
      "metadata": {
        "id": "2KbEZi2610c4",
        "colab_type": "code",
        "colab": {
          "base_uri": "https://localhost:8080/",
          "height": 265
        },
        "outputId": "72e271cf-49bc-485e-b25b-b251883abe0b"
      },
      "source": [
        "import matplotlib.pyplot as plt\n",
        "import matplotlib as mpl\n",
        "\n",
        "x = []\n",
        "y = []\n",
        "for i in range(1, N+1):\n",
        "    for j in range(1, N+1):\n",
        "        x.append(i)\n",
        "        y.append(j)\n",
        "\n",
        "plt.scatter(x, y, c=res, sizes=[800] * 100, alpha=1, marker=\"s\")\n",
        "plt.colorbar()\n",
        "plt.show()"
      ],
      "execution_count": 63,
      "outputs": [
        {
          "output_type": "display_data",
          "data": {
            "image/png": "[encoded data removed]",
            "text/plain": [
              "<Figure size 432x288 with 2 Axes>"
            ]
          },
          "metadata": {
            "tags": [],
            "needs_background": "light"
          }
        }
      ]
    },
    {
      "cell_type": "markdown",
      "metadata": {
        "id": "GRwySzKx1HC6",
        "colab_type": "text"
      },
      "source": [
        ""
      ]
    },
    {
      "cell_type": "code",
      "metadata": {
        "id": "vg7V1WrX1HYh",
        "colab_type": "code",
        "colab": {}
      },
      "source": [
        "def gauss_seidl_method(A, B, iterations):\n",
        "    eps = 1e-10\n",
        "    x = np.zeros(len(B))\n",
        "    for i in range(iterations):\n",
        "        x2 = np.zeros(len(B))\n",
        "        for i in range(A.shape[0]):\n",
        "            s1 = np.dot(A[i, :i], x2[:i])\n",
        "            s2 = np.dot(A[i, i + 1:], x[i + 1:])\n",
        "            x2[i] = (B[i] - s1 - s2) / A[i, i]\n",
        "        if np.allclose(x, x2, rtol=eps):\n",
        "            return x2, i\n",
        "        x = x2\n",
        "    return x, iterations\n",
        "\n",
        "def sor_method(A, B, omega, iterations):\n",
        "    eps = 1e-10\n",
        "    x = np.zeros(len(B))\n",
        "    if omega < 0 or omega > 2:\n",
        "        return None, None\n",
        "\n",
        "    n = B.shape\n",
        "    x2 = np.zeros(len(B))\n",
        "\n",
        "    for j in range(iterations):\n",
        "        for i in range (n[0]):\n",
        "            new_values_sum = np.dot(A[i, :i], x[:i])\n",
        "            old_values_sum = np.dot(A[i, i + 1:], x2[i + 1:])\n",
        "            x[i] = (B[i] - (old_values_sum + new_values_sum)) / A[i, i]\n",
        "            x[i] = np.dot(x[i], omega) + np.dot(x2[i], (1 - omega))\n",
        "\n",
        "        if np.linalg.norm(np.dot(A, x) - B) < eps:\n",
        "            return x2, i\n",
        "        x2 = x\n",
        "\n",
        "    return x, iterations"
      ],
      "execution_count": 0,
      "outputs": []
    },
    {
      "cell_type": "code",
      "metadata": {
        "id": "jDXtjODs1RtN",
        "colab_type": "code",
        "colab": {
          "base_uri": "https://localhost:8080/",
          "height": 408
        },
        "outputId": "1e2bfec7-6aac-40d4-b4ec-a95e3b2ae254"
      },
      "source": [
        "res, it = gauss_seidl_method(A, B, 1000)\n",
        "print(f\"Liczba iteracji: {it} \\n Rozwiązanie\")\n",
        "\n",
        "print(res)"
      ],
      "execution_count": 65,
      "outputs": [
        {
          "output_type": "stream",
          "text": [
            "Liczba iteracji: 99 \n",
            " Rozwiązanie\n",
            "[-12.38060437 -16.96024427 -19.2916756  -20.93570111 -22.34404386\n",
            " -23.63456788 -24.82158493 -25.90515597 -26.95653165 -28.3442996\n",
            " -31.56217322 -34.66869712 -37.27075705 -39.60708501 -41.80590648\n",
            " -43.87264274 -45.74661587 -47.34250733 -48.57667104 -49.35849354\n",
            " -49.3550918  -50.88161397 -53.01557047 -55.41597541 -57.89985432\n",
            " -60.30348075 -62.44972851 -64.14158645 -65.14915167 -65.15791175\n",
            " -63.61808652 -63.98709651 -65.4939355  -67.64139187 -70.07405468\n",
            " -72.49169746 -74.60723102 -76.12495831 -76.72043748 -76.0059153\n",
            " -73.47224604 -72.9547501  -73.83168317 -75.58160192 -77.76327512\n",
            " -79.98202342 -81.86253983 -83.03057832 -83.10172469 -81.67306596\n",
            " -78.31023226 -77.02797472 -77.29644519 -78.59005758 -80.41542048\n",
            " -82.31058129 -83.83032659 -84.53309049 -83.98281704 -81.77439161\n",
            " -77.56764237 -75.55047135 -75.23606531 -76.06676274 -77.49776798\n",
            " -79.01455469 -80.1150948  -80.28864005 -79.02206138 -75.87404111\n",
            " -70.63547428 -67.87020304 -67.03058199 -67.44316013 -68.49433404\n",
            " -69.63477474 -70.32685787 -69.98431355 -67.94274735 -63.5642372\n",
            " -56.73001061 -53.26428458 -52.07289951 -52.18096177 -52.90163332\n",
            " -53.70335237 -54.07324843 -53.37900897 -50.70037727 -44.71014976\n",
            " -34.45604638 -30.88402516 -29.8157697  -29.80615415 -30.22788512\n",
            " -30.703753   -30.88377451 -30.25809662 -27.76960302 -20.6199382 ]\n"
          ],
          "name": "stdout"
        }
      ]
    },
    {
      "cell_type": "code",
      "metadata": {
        "id": "hWZ7IhQl1Seo",
        "colab_type": "code",
        "colab": {
          "base_uri": "https://localhost:8080/",
          "height": 408
        },
        "outputId": "440a5f11-e7b6-44a1-bf0c-9d7a1b80ecdd"
      },
      "source": [
        "res, it = sor_method(A, B, 1.4, 1000)\n",
        "print(f\"Liczba iteracji: {it} \\n Rozwiązanie\")\n",
        "\n",
        "print(res)"
      ],
      "execution_count": 66,
      "outputs": [
        {
          "output_type": "stream",
          "text": [
            "Liczba iteracji: 99 \n",
            " Rozwiązanie\n",
            "[-12.38060444 -16.96024437 -19.29167572 -20.93570123 -22.34404399\n",
            " -23.634568   -24.82158505 -25.9051561  -26.95653179 -28.34429975\n",
            " -31.5621734  -34.66869733 -37.27075727 -39.60708523 -41.80590671\n",
            " -43.87264297 -45.74661611 -47.34250757 -48.57667129 -49.3584938\n",
            " -49.35509209 -50.88161427 -53.01557078 -55.41597573 -57.89985464\n",
            " -60.30348108 -62.44972884 -64.14158678 -65.14915201 -65.15791209\n",
            " -63.61808687 -63.98709688 -65.49393587 -67.64139225 -70.07405506\n",
            " -72.49169784 -74.6072314  -76.12495869 -76.72043787 -76.00591569\n",
            " -73.47224643 -72.9547505  -73.83168357 -75.58160233 -77.76327552\n",
            " -79.98202382 -81.86254023 -83.03057872 -83.10172509 -81.67306636\n",
            " -78.31023266 -77.02797511 -77.29644558 -78.59005797 -80.41542088\n",
            " -82.31058168 -83.83032698 -84.53309088 -83.98281742 -81.77439199\n",
            " -77.56764274 -75.55047172 -75.23606567 -76.0667631  -77.49776834\n",
            " -79.01455505 -80.11509514 -80.28864039 -79.02206171 -75.87404143\n",
            " -70.63547459 -67.87020335 -67.03058229 -67.44316043 -68.49433433\n",
            " -69.63477502 -70.32685815 -69.98431383 -67.94274761 -63.56423745\n",
            " -56.73001083 -53.2642848  -52.07289972 -52.18096198 -52.90163352\n",
            " -53.70335257 -54.07324862 -53.37900915 -50.70037744 -44.71014991\n",
            " -34.45604651 -30.88402528 -29.81576981 -29.80615425 -30.22788522\n",
            " -30.7037531  -30.88377461 -30.25809672 -27.7696031  -20.61993825]\n"
          ],
          "name": "stdout"
        }
      ]
    },
    {
      "cell_type": "markdown",
      "metadata": {
        "id": "gUEeCO5H4KKn",
        "colab_type": "text"
      },
      "source": [
        "Wszystkie metody dały ten sam wynik. Porównując liczbe iteracji metoda Czebyszewa jest zdecydowanie lepsza."
      ]
    }
  ]
}