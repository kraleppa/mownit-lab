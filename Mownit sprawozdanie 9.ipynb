{
  "nbformat": 4,
  "nbformat_minor": 0,
  "metadata": {
    "colab": {
      "name": "Copy of Spraw9.ipynb",
      "provenance": []
    },
    "kernelspec": {
      "name": "python3",
      "display_name": "Python 3"
    }
  },
  "cells": [
    {
      "cell_type": "markdown",
      "metadata": {
        "id": "4Oy9NNBFfYPy",
        "colab_type": "text"
      },
      "source": [
        "# Krzysztof Nalepa\n",
        "## Sprawozdanie z ćwiczenia 9\n",
        "### Rozwiązywanie układów równań liniowych"
      ]
    },
    {
      "cell_type": "markdown",
      "metadata": {
        "id": "M3QlHqa1fpPj",
        "colab_type": "text"
      },
      "source": [
        "#### Zadanie 1 \n",
        "Zaimplemenuj metodę eliminacji Gaussa bez pivotingu i z pivotingiem dla układu równań o dowolnym rozmiarze. "
      ]
    },
    {
      "cell_type": "code",
      "metadata": {
        "id": "8BXVu6GHftUF",
        "colab_type": "code",
        "colab": {}
      },
      "source": [
        "def gauss_elimination_method_without_pivoting(A, B):\n",
        "    if len(A) != len(A[0]):\n",
        "        return None\n",
        "    n = len(A)\n",
        "\n",
        "    for row in range(0, n - 1):\n",
        "        for i in range(row + 1, n):\n",
        "            f = A[i][row] / A[row][row]\n",
        "            for j in range(row, n):\n",
        "                A[i][j] -= f * A[row][j]\n",
        "            B[i] -= f * B[row]\n",
        "\n",
        "    result = [0] * n\n",
        "    result[n - 1] = B[n - 1] / A[n - 1][n - 1]\n",
        "    for row in range(n - 2, -1, -1):\n",
        "        sum = B[row]\n",
        "        for j in range(row + 1, n):\n",
        "            sum -= A[row][j] * result[j]\n",
        "        result[row] = sum / A[row][row]\n",
        "\n",
        "    return result\n",
        "\n",
        "def gauss_elimination_method_with_pivoting(A, B):\n",
        "    if len(A) != len(A[0]):\n",
        "        return None\n",
        "    n = len(A)\n",
        "    M = A\n",
        "    i = 0\n",
        "    for row in M:\n",
        "        row.append(B[i])\n",
        "        i += 1\n",
        "\n",
        "    for k in range(n):\n",
        "        for i in range(k, n):\n",
        "            if abs(M[i][k]) > abs(M[k][k]):\n",
        "                M[k], M[i] = M[i], M[k]\n",
        "\n",
        "        for j in range(k + 1, n):\n",
        "            q = M[j][k] / M[k][k]\n",
        "            for m in range(k, n + 1):\n",
        "                M[j][m] -= q * M[k][m]\n",
        "\n",
        "    result = [0] * n\n",
        "\n",
        "    result[n - 1] = M[n - 1][n] / M[n - 1][n - 1]\n",
        "    for i in range(n - 1, -1, -1):\n",
        "        z = 0\n",
        "        for j in range(i + 1, n):\n",
        "            z += M[i][j] * result[j]\n",
        "        result[i] = (M[i][n] - z) / M[i][i]\n",
        "    return result\n"
      ],
      "execution_count": 0,
      "outputs": []
    },
    {
      "cell_type": "markdown",
      "metadata": {
        "id": "vseRPn_99MMB",
        "colab_type": "text"
      },
      "source": [
        "#### Zadanie 2\n",
        "Zademonstruj działanie algorytmu na macierzy o rozmiarze 5 x 5. Zademonstruj w jakiej sytuacji potrzebny jest pivoting i jak działa. "
      ]
    },
    {
      "cell_type": "code",
      "metadata": {
        "id": "cnT15PEw-iUX",
        "colab_type": "code",
        "outputId": "ce116b76-f5d7-438e-dce4-642c22af9a56",
        "colab": {
          "base_uri": "https://localhost:8080/",
          "height": 50
        }
      },
      "source": [
        "import copy\n",
        "\n",
        "A = [[2, -7, 0, 3, 2], \n",
        "     [-3, 0, 6, 1, 6], \n",
        "     [5, -1, 5, 1, 2],\n",
        "     [1, 6, 2, -1, 2],\n",
        "     [4, 2, 1, -5, 1]]\n",
        "B = [7, 3, 6, 1, 2]\n",
        "\n",
        "x = gauss_elimination_method_without_pivoting(copy.deepcopy(A), copy.deepcopy(B))\n",
        "print(x)\n",
        "\n",
        "y = gauss_elimination_method_with_pivoting(copy.deepcopy(A), copy.deepcopy(B))\n",
        "print(y)\n"
      ],
      "execution_count": 5,
      "outputs": [
        {
          "output_type": "stream",
          "text": [
            "[0.9142228739002936, -0.2104105571847507, -0.32624633431085015, 0.42448680351906154, 1.2126099706744866]\n",
            "[0.9142228739002931, -0.21041055718475074, -0.32624633431085026, 0.42448680351906165, 1.2126099706744866]\n"
          ],
          "name": "stdout"
        }
      ]
    },
    {
      "cell_type": "code",
      "metadata": {
        "id": "pbaSGvlDJoTG",
        "colab_type": "code",
        "outputId": "6d267432-0703-420c-b608-235cfb066fac",
        "colab": {
          "base_uri": "https://localhost:8080/",
          "height": 117
        }
      },
      "source": [
        "import numpy as np\n",
        "from tabulate import tabulate\n",
        "\n",
        "A = [[0.00000000000000062, 3123, 335, 134, 3123], \n",
        "      [0.123, 0.00000000000000012, 1231, 9201, 1231], \n",
        "      [1123, 17123, 0.00000000000000013, 31230, 1231],\n",
        "      [123, 1235, 12512, 0.00000000000000032, 2352],\n",
        "      [1235, 123521, 12451, 12541, 0.00000000000000012]]\n",
        "B = [7, 3, 6, 2, 1]\n",
        "AN = np.array(A)\n",
        "BN = np.array(B)\n",
        "\n",
        "x = gauss_elimination_method_without_pivoting(copy.deepcopy(A), copy.deepcopy(B))\n",
        "\n",
        "z = np.linalg.solve(AN, BN).tolist()\n",
        "\n",
        "y = gauss_elimination_method_with_pivoting(copy.deepcopy(A), copy.deepcopy(B))\n",
        "table = [['Without pivoting'] + x, ['With pivoting'] + y,  ['Scipy value'] + z]\n",
        "\n",
        "print(tabulate(table, headers=['Type', 'a', 'b', 'c', 'd', 'e']), \"\\n\")\n"
      ],
      "execution_count": 7,
      "outputs": [
        {
          "output_type": "stream",
          "text": [
            "Type                        a            b             c            d           e\n",
            "----------------  -----------  -----------  ------------  -----------  ----------\n",
            "Without pivoting  1.43255      0.000465717  -0.00289898   0.000393082  0.00206982\n",
            "With pivoting     0.000838886  2.09293e-05  -0.000272879  6.19069e-05  0.00224712\n",
            "Scipy value       0.000838886  2.09293e-05  -0.000272879  6.19069e-05  0.00224712 \n",
            "\n"
          ],
          "name": "stdout"
        }
      ]
    },
    {
      "cell_type": "markdown",
      "metadata": {
        "id": "3z0Ka9i8OdJ9",
        "colab_type": "text"
      },
      "source": [
        "Jak widać dla drugiego przykładu jest spora różnica między wartościami wyliczanymi bez pivotingu i z pivotingiem. Wynika ona z tego, że od małych liczb odejmujemy dość duże liczby co powoduje błędy wynikające z zaogrąglania."
      ]
    },
    {
      "cell_type": "markdown",
      "metadata": {
        "id": "rTJ1G3IQE1X9",
        "colab_type": "text"
      },
      "source": [
        "#### Zadanie 3\n",
        "Podaj teorytyczną złożoność obliczeniową algorytmu eliminacji Gaussa. Przeprowadź testy wydajności swojego algorytmu sprawdzając jego działanie dla różnych rozmiarów macierzy (testy powinny być wykonane poza środowiskiem jupyter). Aby wygenerować układ równań, wygeneruj wektor rozwiązań i macierz współczynników losując wartości (skorzystaj z funkcji poznanych w Ćwiczeniu 2) i następnie oblicz wektor wyrazów wolnych. \n"
      ]
    },
    {
      "cell_type": "markdown",
      "metadata": {
        "id": "usPfCgiuUt2h",
        "colab_type": "text"
      },
      "source": [
        "Teoretyczna złożoność obliczeniowa algorytmu eliminacji Gaussa to O($n^3$). Do wykonania pomiarów i wygenerowania wykresów użyłem poniższego skryptu"
      ]
    },
    {
      "cell_type": "code",
      "metadata": {
        "id": "oVrBykb1TRVZ",
        "colab_type": "code",
        "colab": {}
      },
      "source": [
        "import numpy as np\n",
        "import time\n",
        "from random import randrange\n",
        "import copy\n",
        "import matplotlib.pyplot as plt\n",
        "\n",
        "\n",
        "def random_matrix(rows, columns):\n",
        "    return np.random.rand(rows, columns)\n",
        "\n",
        "\n",
        "def random_vector(size):\n",
        "    return np.random.rand(size)\n",
        "\n",
        "\n",
        "def time_check():\n",
        "    n = randrange(100, 500)\n",
        "    A = random_matrix(n, n).tolist()\n",
        "    B = random_vector(n).tolist()\n",
        "\n",
        "    start = time.time()\n",
        "    gauss_elimination_method_without_pivoting(copy.deepcopy(A), copy.deepcopy(B))\n",
        "    stop = time.time()\n",
        "    without_pivot = stop - start\n",
        "\n",
        "    start = time.time()\n",
        "    gauss_elimination_method_with_pivoting(copy.deepcopy(A), copy.deepcopy(B))\n",
        "    stop = time.time()\n",
        "    with_pivot = stop - start\n",
        "    return without_pivot, with_pivot, n\n",
        "\n",
        "\n",
        "# Main program starts here\n",
        "if __name__ == '__main__':\n",
        "    size_list = []\n",
        "    with_list = []\n",
        "    without_list = []\n",
        "    for i in range(100):\n",
        "        without_pivot, with_pivot, n = time_check()\n",
        "        without_list.append(with_pivot)\n",
        "        with_list.append(with_pivot)\n",
        "        size_list.append(n)\n",
        "\n",
        "    f = open(\"dane.txt\", \"w+\")\n",
        "    for i in range(100):\n",
        "        f.write(f\"Matrix size {size_list[i]} \\t With pivoting {with_list[i]} \\t Without pivoting {without_list[i]}\\n\")\n",
        "    f.close()\n",
        "\n",
        "    plt.plot(size_list, without_list, 'bo', label=\"Without pivoting\")\n",
        "    plt.xlabel(\"Matrix size\")\n",
        "    plt.ylabel(\"Time\")\n",
        "    plt.title(\"Pomiary czasu metody eliminacji Gaussa\")\n",
        "    plt.legend()\n",
        "    plt.savefig(\"wykres1\")\n",
        "\n",
        "    plt.close()\n",
        "    plt.plot(size_list, with_list, 'ro', label=\"With pivoting\")\n",
        "    plt.xlabel(\"Matrix size\")\n",
        "    plt.ylabel(\"Time\")\n",
        "    plt.title(\"Pomiary czasu metody eliminacji Gaussa\")\n",
        "    plt.legend()\n",
        "    plt.savefig(\"wykres2\")\n"
      ],
      "execution_count": 0,
      "outputs": []
    },
    {
      "cell_type": "markdown",
      "metadata": {
        "id": "j1lEp04Rb2ui",
        "colab_type": "text"
      },
      "source": [
        "Wykresy oraz pomiary umieściłem w osobnym pliku pdf"
      ]
    }
  ]
}